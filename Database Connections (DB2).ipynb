{
    "cells": [
        {
            "cell_type": "markdown",
            "metadata": {},
            "source": "## Table of Contents\n* [Connecting](#Basics-of-Connecting-to-a-DB2-Database)\n    * [Make a Connection](#Make-a-Connection)\n        * [Imports](#Imports)\n        * [Define Credentials](#Define-Credentials)\n        * [Establish Connection](#Establish-Connection)\n    * [Retrieve Data](#Retrieve-Data)\n        * [Metadata](#Metadata)\n    * [Close Connection](#Close-Connection)\n* [Creating Tables, Loading, and Querying](#Creating-Tables,-Loading,-and-Querying)\n    * [Imports](#Import-Additional-Libraries)\n    * [Connect](#Connect-to-Database)\n    * [Create Tables](#Create-a-Table-in-the-Database)\n        * [Drop Exisiting Table](#Drop-Table-if-it-Already-Exists)\n        * [CREATE Query](#Construct-Create-Query)\n    * [Insert Data](#Insert-Data)\n    * [Query Table](#Query-Table-for-Data)\n        * [Fetch Data](#Fetch-Data)\n        * [Update Data](#Update-Data)\n    * [Retrieve Data into Pandas](#Retrieve-Data-into-Pandas)"
        },
        {
            "cell_type": "markdown",
            "metadata": {},
            "source": "# Basics of Connecting to a DB2 Database"
        },
        {
            "cell_type": "markdown",
            "metadata": {},
            "source": "## Make a Connection"
        },
        {
            "cell_type": "markdown",
            "metadata": {},
            "source": "### Imports"
        },
        {
            "cell_type": "code",
            "execution_count": 1,
            "metadata": {},
            "outputs": [
                {
                    "name": "stdout",
                    "output_type": "stream",
                    "text": "Requirement already satisfied: ibm_db in c:\\users\\jusla\\anaconda3\\lib\\site-packages (3.0.2)\n"
                }
            ],
            "source": "!pip install ibm_db\nimport ibm_db"
        },
        {
            "cell_type": "markdown",
            "metadata": {},
            "source": "### Define Credentials\ndsn_hostname = \"YourDb2Hostname\" # e.g.: \"dashdb-txn-sbox-yp-dal09-04.services.dal.bluemix.net\"<br>\ndsn_uid = \"YourDb2Username\"        # e.g. \"abc12345\"<br>\ndsn_pwd = \"YourDb2Password\"      # e.g. \"7dBZ3wWt9XN6$o0J\"<br>\ndsn_driver = \"{IBM DB2 ODBC DRIVER}\"<br>\ndsn_database = \"BLUDB\"            # e.g. \"BLUDB\"<br>\ndsn_port = \"50000\"                # e.g. \"50000\"<br>\ndsn_protocol = \"TCPIP\"            # i.e. \"TCPIP\"<br>"
        },
        {
            "cell_type": "code",
            "execution_count": 2,
            "metadata": {},
            "outputs": [],
            "source": "# The code was removed by Watson Studio for sharing."
        },
        {
            "cell_type": "code",
            "execution_count": 3,
            "metadata": {},
            "outputs": [],
            "source": "dsn_hostname = \"dashdb-txn-sbox-yp-dal09-11.services.dal.bluemix.net\" # e.g.: \"dashdb-txn-sbox-yp-dal09-04.services.dal.bluemix.net\"\ndsn_driver = \"{IBM DB2 ODBC DRIVER}\"\ndsn_database = \"BLUDB\"            # e.g. \"BLUDB\"\ndsn_port = \"50000\"                # e.g. \"50000\" \ndsn_protocol = \"TCPIP\"            # i.e. \"TCPIP\""
        },
        {
            "cell_type": "markdown",
            "metadata": {},
            "source": "### Establish Connection"
        },
        {
            "cell_type": "code",
            "execution_count": 4,
            "metadata": {},
            "outputs": [],
            "source": "#Create the dsn connection string\ndsn = (\n    \"DRIVER={0};\"\n    \"DATABASE={1};\"\n    \"HOSTNAME={2};\"\n    \"PORT={3};\"\n    \"PROTOCOL={4};\"\n    \"UID={5};\"\n    \"PWD={6};\").format(dsn_driver, dsn_database, dsn_hostname, dsn_port, dsn_protocol, dsn_uid, dsn_pwd)"
        },
        {
            "cell_type": "code",
            "execution_count": 5,
            "metadata": {},
            "outputs": [
                {
                    "name": "stdout",
                    "output_type": "stream",
                    "text": "Connected to database:  BLUDB on host:  dashdb-txn-sbox-yp-dal09-11.services.dal.bluemix.net\n"
                }
            ],
            "source": "#Create database connection\n\ntry:\n    conn = ibm_db.connect(dsn, \"\", \"\")\n    print (\"Connected to database: \", dsn_database, \"on host: \", dsn_hostname)\n\nexcept:\n    print (\"Unable to connect: \", ibm_db.conn_errormsg() )"
        },
        {
            "cell_type": "markdown",
            "metadata": {},
            "source": "## Retrieve Data"
        },
        {
            "cell_type": "markdown",
            "metadata": {},
            "source": "### Metadata"
        },
        {
            "cell_type": "code",
            "execution_count": 6,
            "metadata": {},
            "outputs": [
                {
                    "name": "stdout",
                    "output_type": "stream",
                    "text": "DBMS_NAME:  DB2/LINUXX8664\nDBMS_VER:   11.01.0404\nDB_NAME:    BLUDB\n"
                }
            ],
            "source": "#Retrieve Metadata for the Database Server\nserver = ibm_db.server_info(conn)\n\nprint (\"DBMS_NAME: \", server.DBMS_NAME)\nprint (\"DBMS_VER:  \", server.DBMS_VER)\nprint (\"DB_NAME:   \", server.DB_NAME)"
        },
        {
            "cell_type": "code",
            "execution_count": 7,
            "metadata": {},
            "outputs": [
                {
                    "name": "stdout",
                    "output_type": "stream",
                    "text": "DRIVER_NAME:           DB2CLI.DLL\nDRIVER_VER:            11.05.0400\nDATA_SOURCE_NAME:      BLUDB\nDRIVER_ODBC_VER:       03.51\nODBC_VER:              03.01.0000\nODBC_SQL_CONFORMANCE:  EXTENDED\nAPPL_CODEPAGE:         1252\nCONN_CODEPAGE:         1208\n"
                }
            ],
            "source": "#Retrieve Metadata for the Database Client / Driver\nclient = ibm_db.client_info(conn)\n\nprint (\"DRIVER_NAME:          \", client.DRIVER_NAME) \nprint (\"DRIVER_VER:           \", client.DRIVER_VER)\nprint (\"DATA_SOURCE_NAME:     \", client.DATA_SOURCE_NAME)\nprint (\"DRIVER_ODBC_VER:      \", client.DRIVER_ODBC_VER)\nprint (\"ODBC_VER:             \", client.ODBC_VER)\nprint (\"ODBC_SQL_CONFORMANCE: \", client.ODBC_SQL_CONFORMANCE)\nprint (\"APPL_CODEPAGE:        \", client.APPL_CODEPAGE)\nprint (\"CONN_CODEPAGE:        \", client.CONN_CODEPAGE)"
        },
        {
            "cell_type": "markdown",
            "metadata": {},
            "source": "## Close Connection"
        },
        {
            "cell_type": "code",
            "execution_count": 8,
            "metadata": {},
            "outputs": [
                {
                    "data": {
                        "text/plain": "True"
                    },
                    "execution_count": 8,
                    "metadata": {},
                    "output_type": "execute_result"
                }
            ],
            "source": "ibm_db.close(conn)"
        },
        {
            "cell_type": "markdown",
            "metadata": {},
            "source": "# Creating Tables, Loading, and Querying"
        },
        {
            "cell_type": "markdown",
            "metadata": {},
            "source": "## Import Additional Libraries"
        },
        {
            "cell_type": "code",
            "execution_count": 9,
            "metadata": {},
            "outputs": [],
            "source": "import pandas as pd\nimport ibm_db_dbi"
        },
        {
            "cell_type": "markdown",
            "metadata": {},
            "source": "## Connect to Database"
        },
        {
            "cell_type": "code",
            "execution_count": 10,
            "metadata": {},
            "outputs": [
                {
                    "name": "stdout",
                    "output_type": "stream",
                    "text": "Connected to database:  BLUDB on host:  dashdb-txn-sbox-yp-dal09-11.services.dal.bluemix.net\n"
                }
            ],
            "source": "dsn_hostname = \"dashdb-txn-sbox-yp-dal09-11.services.dal.bluemix.net\" # e.g.: \"dashdb-txn-sbox-yp-dal09-04.services.dal.bluemix.net\"\ndsn_driver = \"{IBM DB2 ODBC DRIVER}\"\ndsn_database = \"BLUDB\"            # e.g. \"BLUDB\"\ndsn_port = \"50000\"                # e.g. \"50000\" \ndsn_protocol = \"TCPIP\"            # i.e. \"TCPIP\"\n\n#Create the dsn connection string\ndsn = (\n    \"DRIVER={0};\"\n    \"DATABASE={1};\"\n    \"HOSTNAME={2};\"\n    \"PORT={3};\"\n    \"PROTOCOL={4};\"\n    \"UID={5};\"\n    \"PWD={6};\").format(dsn_driver, dsn_database, dsn_hostname, dsn_port, dsn_protocol, dsn_uid, dsn_pwd)\n\ntry:\n    conn = ibm_db.connect(dsn, \"\", \"\")\n    print (\"Connected to database: \", dsn_database, \"on host: \", dsn_hostname)\n\nexcept:\n    print (\"Unable to connect: \", ibm_db.conn_errormsg() )"
        },
        {
            "cell_type": "markdown",
            "metadata": {},
            "source": "## Create a Table in the Database"
        },
        {
            "cell_type": "markdown",
            "metadata": {},
            "source": "### Drop Table if it Already Exists (CAUTION: SEE NOTE)"
        },
        {
            "cell_type": "code",
            "execution_count": 11,
            "metadata": {},
            "outputs": [],
            "source": "##########################################################################################################\n#NOTE The INSTRUCTOR table is our test table, it is okay to drop it to clear it so we can make a clean one\n\n####### ONLY DROP A TABLE IN NON-TESTING CONTEXTS IF YOU ARE 100% CERTAIN IT IS NECESSARY TO DO SO #######\n\n##########################################################################################################\n\n#Lets first drop the table INSTRUCTOR in case it exists from a previous attempt\ndropQuery = \"drop table INSTRUCTOR\"\n\n#Now execute the drop statment\ndropStmt = ibm_db.exec_immediate(conn, dropQuery)"
        },
        {
            "cell_type": "markdown",
            "metadata": {},
            "source": "### Construct CREATE Query"
        },
        {
            "cell_type": "code",
            "execution_count": 12,
            "metadata": {},
            "outputs": [],
            "source": "#Construct the Create Table DDL statement - replace the ... with rest of the statement\ncreateQuery = \"create table INSTRUCTOR(id INTEGER PRIMARY KEY NOT NULL, FNAME VARCHAR(20), LNAME VARCHAR(20), CITY VARCHAR(20), CCODE CHAR(2))\"\n\n#Now fill in the name of the method and execute the statement\n#createStmt = ibm_db.replace_with_name_of_execution_method(conn, createQuery)\ncreateStmt = ibm_db.exec_immediate(conn, createQuery)"
        },
        {
            "cell_type": "markdown",
            "metadata": {},
            "source": "## Insert Data\nConstruct the query - replace ... with the insert statement<br>\ninsertQuery = \"...\"<br><br>\nExecute the insert statement<br>\ninsertStmt = ibm_db.exec_immediate(conn, insertQuery)"
        },
        {
            "cell_type": "code",
            "execution_count": 13,
            "metadata": {},
            "outputs": [],
            "source": "#Construct the query - replace ... with the insert statement\ninsertQuery = \"INSERT INTO INSTRUCTOR VALUES ('1', 'Rav', 'Ahuja', 'Toronto', 'CA'), ('2', 'Raul', 'Chong', 'Markham', 'CA'), ('3', 'Hima', 'Vasudevan', 'Chicago', 'US')\"\n\n#execute the insert statement\ninsertStmt = ibm_db.exec_immediate(conn, insertQuery)"
        },
        {
            "cell_type": "markdown",
            "metadata": {},
            "source": "## Query Table for Data"
        },
        {
            "cell_type": "markdown",
            "metadata": {},
            "source": "### Fetch Data"
        },
        {
            "cell_type": "code",
            "execution_count": 14,
            "metadata": {},
            "outputs": [
                {
                    "data": {
                        "text/plain": "{'ID': 1,\n 0: 1,\n 'FNAME': 'Rav',\n 1: 'Rav',\n 'LNAME': 'Ahuja',\n 2: 'Ahuja',\n 'CITY': 'Toronto',\n 3: 'Toronto',\n 'CCODE': 'CA',\n 4: 'CA'}"
                    },
                    "execution_count": 14,
                    "metadata": {},
                    "output_type": "execute_result"
                }
            ],
            "source": "#Construct the query that retrieves all rows from the INSTRUCTOR table\nselectQuery = \"select * from INSTRUCTOR\"\n\n#Execute the statement\nselectStmt = ibm_db.exec_immediate(conn, selectQuery)\n\n#Fetch the Dictionary (for the first row only)\nibm_db.fetch_both(selectStmt)"
        },
        {
            "cell_type": "code",
            "execution_count": 15,
            "metadata": {},
            "outputs": [
                {
                    "name": "stdout",
                    "output_type": "stream",
                    "text": " ID: 2  FNAME: Raul\n ID: 3  FNAME: Hima\n"
                }
            ],
            "source": "#Fetch the rest of the rows and print the ID and FNAME for those rows\nwhile ibm_db.fetch_row(selectStmt) != False:\n   print (\" ID:\",  ibm_db.result(selectStmt, 0), \" FNAME:\",  ibm_db.result(selectStmt, \"FNAME\"))"
        },
        {
            "cell_type": "markdown",
            "metadata": {},
            "source": "### Update Data"
        },
        {
            "cell_type": "code",
            "execution_count": 16,
            "metadata": {},
            "outputs": [],
            "source": "#Construct the query that updates instructor city\nupdateQuery = \"UPDATE INSTRUCTOR SET CITY='Moosetown' WHERE ID=1\"\n\n#Execute the statement\nupdateStmt = ibm_db.exec_immediate(conn, updateQuery)"
        },
        {
            "cell_type": "markdown",
            "metadata": {},
            "source": "## Retrieve Data into Pandas"
        },
        {
            "cell_type": "code",
            "execution_count": 17,
            "metadata": {},
            "outputs": [],
            "source": "#connection for pandas\npconn = ibm_db_dbi.Connection(conn)"
        },
        {
            "cell_type": "code",
            "execution_count": 18,
            "metadata": {},
            "outputs": [
                {
                    "data": {
                        "text/plain": "'Ahuja'"
                    },
                    "execution_count": 18,
                    "metadata": {},
                    "output_type": "execute_result"
                }
            ],
            "source": "#query statement to retrieve all rows in INSTRUCTOR table\nselectQuery = \"select * from INSTRUCTOR\"\n\n#retrieve the query results into a pandas dataframe\npdf = pd.read_sql(selectQuery, pconn)\n\n#print just the LNAME for first row in the pandas data frame\npdf.LNAME[0]"
        },
        {
            "cell_type": "code",
            "execution_count": 19,
            "metadata": {},
            "outputs": [
                {
                    "data": {
                        "text/html": "<div>\n<style scoped>\n    .dataframe tbody tr th:only-of-type {\n        vertical-align: middle;\n    }\n\n    .dataframe tbody tr th {\n        vertical-align: top;\n    }\n\n    .dataframe thead th {\n        text-align: right;\n    }\n</style>\n<table border=\"1\" class=\"dataframe\">\n  <thead>\n    <tr style=\"text-align: right;\">\n      <th></th>\n      <th>ID</th>\n      <th>FNAME</th>\n      <th>LNAME</th>\n      <th>CITY</th>\n      <th>CCODE</th>\n    </tr>\n  </thead>\n  <tbody>\n    <tr>\n      <th>0</th>\n      <td>1</td>\n      <td>Rav</td>\n      <td>Ahuja</td>\n      <td>Moosetown</td>\n      <td>CA</td>\n    </tr>\n    <tr>\n      <th>1</th>\n      <td>2</td>\n      <td>Raul</td>\n      <td>Chong</td>\n      <td>Markham</td>\n      <td>CA</td>\n    </tr>\n    <tr>\n      <th>2</th>\n      <td>3</td>\n      <td>Hima</td>\n      <td>Vasudevan</td>\n      <td>Chicago</td>\n      <td>US</td>\n    </tr>\n  </tbody>\n</table>\n</div>",
                        "text/plain": "   ID FNAME      LNAME       CITY CCODE\n0   1   Rav      Ahuja  Moosetown    CA\n1   2  Raul      Chong    Markham    CA\n2   3  Hima  Vasudevan    Chicago    US"
                    },
                    "execution_count": 19,
                    "metadata": {},
                    "output_type": "execute_result"
                }
            ],
            "source": "#print the entire data frame\npdf"
        },
        {
            "cell_type": "code",
            "execution_count": 20,
            "metadata": {},
            "outputs": [
                {
                    "data": {
                        "text/plain": "(3, 5)"
                    },
                    "execution_count": 20,
                    "metadata": {},
                    "output_type": "execute_result"
                }
            ],
            "source": "pdf.shape"
        },
        {
            "cell_type": "markdown",
            "metadata": {},
            "source": "## Close the Connection"
        },
        {
            "cell_type": "code",
            "execution_count": 21,
            "metadata": {},
            "outputs": [
                {
                    "data": {
                        "text/plain": "True"
                    },
                    "execution_count": 21,
                    "metadata": {},
                    "output_type": "execute_result"
                }
            ],
            "source": "ibm_db.close(conn)"
        }
    ],
    "metadata": {
        "kernelspec": {
            "display_name": "Python 3.7",
            "language": "python",
            "name": "python3"
        },
        "language_info": {
            "codemirror_mode": {
                "name": "ipython",
                "version": 3
            },
            "file_extension": ".py",
            "mimetype": "text/x-python",
            "name": "python",
            "nbconvert_exporter": "python",
            "pygments_lexer": "ipython3",
            "version": "3.7.9"
        }
    },
    "nbformat": 4,
    "nbformat_minor": 4
}