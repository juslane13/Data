{
 "cells": [
  {
   "cell_type": "markdown",
   "metadata": {},
   "source": [
    "# Data Science Template\n",
    "\n",
    "*This notebook can be used as a starting point for many common types of data science projects.<br />\n",
    "**Please copy this notebook and work from the copy**.*"
   ]
  },
  {
   "cell_type": "markdown",
   "metadata": {},
   "source": [
    "## Table of Contents\n",
    "* [Package Imports](#Package-Imports)\n",
    "* [Importing Data](#Importing-Data)\n",
    "    * [URL and GET Request](#From-URL-and-GET-Request)\n",
    "    * [Tabular](#From-Tabular-Data)\n",
    "    * [SQL](#From-SQL)\n",
    "    * [JSON](#From-JSON)\n",
    "    * [HTML](#From-HTML)\n",
    "* [Exploratory Data Analysis](#Exploratory-Data-Analysis)\n",
    "   * [Change Variable Types](#Change-Variable-Types-as-Needed)\n",
    "   * [Look for Anomalies](#Look-for-Anomalies)\n",
    "   * [Remove Data Points](#Remove-Data-Points-as-Needed)\n",
    "* [Pandas](#Pandas)\n",
    "   * [.loc](#.loc)\n",
    "   * [.iloc](#.iloc)\n",
    "   * [.ix](#.ix)\n",
    "   * [Slicing DataFrames](#Slicing-DataFrames)\n",
    "   * [Subset Using Criteria](#Subset-Based-on-Criteria)\n",
    "* [Numpy](#Numpy)\n",
    "   * [1D Vector Math](#Vector-Math---1-Dimension)"
   ]
  },
  {
   "cell_type": "markdown",
   "metadata": {},
   "source": [
    "## Package Imports"
   ]
  },
  {
   "cell_type": "code",
   "execution_count": 2,
   "metadata": {},
   "outputs": [],
   "source": [
    "import pandas as pd\n",
    "import numpy as np\n",
    "import matplotlib.pyplot as plt\n",
    "import seaborn as sns\n",
    "import requests"
   ]
  },
  {
   "cell_type": "markdown",
   "metadata": {},
   "source": [
    "## Configure Pandas Display"
   ]
  },
  {
   "cell_type": "code",
   "execution_count": 2,
   "metadata": {},
   "outputs": [],
   "source": [
    "pd.set_option('display.max_columns', None)"
   ]
  },
  {
   "cell_type": "markdown",
   "metadata": {},
   "source": [
    "## Importing Data"
   ]
  },
  {
   "cell_type": "markdown",
   "metadata": {},
   "source": [
    "### From URL and GET Request"
   ]
  },
  {
   "cell_type": "code",
   "execution_count": 3,
   "metadata": {},
   "outputs": [],
   "source": [
    "league_id = 849989\n",
    "year = 2017\n",
    "url = \"https://fantasy.espn.com/apis/v3/games/ffl/leagueHistory/\" + \\\n",
    "      str(league_id) + \"?seasonId=\" + str(year)\n",
    "r_2017_scores = requests.get(url,\n",
    "                             params = {\"view\": \"mMatchup\"},\n",
    "                             cookies = {'swid': \"{C3237527-A896-4050-A1A4-7B1119FD8C50}\",\n",
    "                                        'espn_s2': 'AEBppdM8aRL9v8ffZPUE7nLBtyOWYBIlmcCn6BsraemacFhoLUf1hwfHxu3vFRKd0L95RoehNafvK7rkEsKbvISLBp9VTeKxx5EucIPjWjkwChh%2FuiW3Q%2FSLn9EG9HCar0ix61TToa1lrwuSLbWLfmTvCBcQA4o6wrQoba96HpUrgKoz2f61MwKJsEUcQtDLYCnuEriSwI83OFcUYA%2F31eJ9eiJt98%2BZv7s4QnPE9oPRbs6%2Fdm%2BaRoYY4dpWxiyNeNw9f9fXJDPiUZ67zJEvYT8Q'})\n"
   ]
  },
  {
   "cell_type": "markdown",
   "metadata": {},
   "source": [
    "### From Tabular Data\n",
    "pandas.read_csv(filepath_or_buffer, sep=',', delimiter=None, header='infer', names=None, index_col=None, usecols=None, squeeze=False, prefix=None, mangle_dupe_cols=True, dtype=None, engine=None, converters=None, true_values=None, false_values=None, skipinitialspace=False, skiprows=None, skipfooter=0, nrows=None, na_values=None, keep_default_na=True, na_filter=True, verbose=False, skip_blank_lines=True, parse_dates=False, infer_datetime_format=False, keep_date_col=False, date_parser=None, dayfirst=False, cache_dates=True, iterator=False, chunksize=None, compression='infer', thousands=None, decimal='.', lineterminator=None, quotechar='\"', quoting=0, doublequote=True, escapechar=None, comment=None, encoding=None, dialect=None, error_bad_lines=True, warn_bad_lines=True, delim_whitespace=False, low_memory=True, memory_map=False, float_precision=None)\n",
    "[source](https://github.com/pandas-dev/pandas/blob/v1.1.5/pandas/io/parsers.py#L535-L688)"
   ]
  },
  {
   "cell_type": "code",
   "execution_count": 104,
   "metadata": {},
   "outputs": [
    {
     "data": {
      "text/html": [
       "<div>\n",
       "<style scoped>\n",
       "    .dataframe tbody tr th:only-of-type {\n",
       "        vertical-align: middle;\n",
       "    }\n",
       "\n",
       "    .dataframe tbody tr th {\n",
       "        vertical-align: top;\n",
       "    }\n",
       "\n",
       "    .dataframe thead th {\n",
       "        text-align: right;\n",
       "    }\n",
       "</style>\n",
       "<table border=\"1\" class=\"dataframe\">\n",
       "  <thead>\n",
       "    <tr style=\"text-align: right;\">\n",
       "      <th></th>\n",
       "      <th>V1</th>\n",
       "      <th>V2</th>\n",
       "      <th>V3</th>\n",
       "      <th>V4</th>\n",
       "      <th>V5</th>\n",
       "      <th>V6</th>\n",
       "      <th>V7</th>\n",
       "      <th>V8</th>\n",
       "      <th>V9</th>\n",
       "      <th>V10</th>\n",
       "      <th>V11</th>\n",
       "      <th>V12</th>\n",
       "      <th>HIRE</th>\n",
       "      <th>Gender</th>\n",
       "      <th>Hours</th>\n",
       "      <th>Group</th>\n",
       "      <th>R1</th>\n",
       "      <th>R3</th>\n",
       "      <th>R7</th>\n",
       "      <th>R8</th>\n",
       "      <th>R9</th>\n",
       "      <th>R11</th>\n",
       "      <th>VAR00001</th>\n",
       "      <th>Scale</th>\n",
       "      <th>Average</th>\n",
       "      <th>Deviation</th>\n",
       "      <th>Deviation2</th>\n",
       "    </tr>\n",
       "  </thead>\n",
       "  <tbody>\n",
       "    <tr>\n",
       "      <th>0</th>\n",
       "      <td>2</td>\n",
       "      <td>4</td>\n",
       "      <td>2</td>\n",
       "      <td>4</td>\n",
       "      <td>4</td>\n",
       "      <td>3</td>\n",
       "      <td>2</td>\n",
       "      <td>2</td>\n",
       "      <td>3</td>\n",
       "      <td>4</td>\n",
       "      <td>2</td>\n",
       "      <td>3</td>\n",
       "      <td>1</td>\n",
       "      <td>3</td>\n",
       "      <td>5</td>\n",
       "      <td>1</td>\n",
       "      <td>4</td>\n",
       "      <td>4</td>\n",
       "      <td>4</td>\n",
       "      <td>4</td>\n",
       "      <td>3</td>\n",
       "      <td>4</td>\n",
       "      <td></td>\n",
       "      <td>45</td>\n",
       "      <td>3.75</td>\n",
       "      <td>.75</td>\n",
       "      <td>9</td>\n",
       "    </tr>\n",
       "    <tr>\n",
       "      <th>1</th>\n",
       "      <td>4</td>\n",
       "      <td>2</td>\n",
       "      <td>4</td>\n",
       "      <td>2</td>\n",
       "      <td>1</td>\n",
       "      <td>1</td>\n",
       "      <td>4</td>\n",
       "      <td>4</td>\n",
       "      <td>4</td>\n",
       "      <td>2</td>\n",
       "      <td>4</td>\n",
       "      <td>2</td>\n",
       "      <td>3</td>\n",
       "      <td>3</td>\n",
       "      <td>7</td>\n",
       "      <td>1</td>\n",
       "      <td>2</td>\n",
       "      <td>2</td>\n",
       "      <td>2</td>\n",
       "      <td>2</td>\n",
       "      <td>2</td>\n",
       "      <td>2</td>\n",
       "      <td></td>\n",
       "      <td>22</td>\n",
       "      <td>1.83333333333333</td>\n",
       "      <td>-1.16666666666667</td>\n",
       "      <td>-14</td>\n",
       "    </tr>\n",
       "    <tr>\n",
       "      <th>2</th>\n",
       "      <td>2</td>\n",
       "      <td>4</td>\n",
       "      <td>2</td>\n",
       "      <td>4</td>\n",
       "      <td>3</td>\n",
       "      <td>2</td>\n",
       "      <td>2</td>\n",
       "      <td>4</td>\n",
       "      <td>3</td>\n",
       "      <td>4</td>\n",
       "      <td>2</td>\n",
       "      <td>4</td>\n",
       "      <td>1</td>\n",
       "      <td>3</td>\n",
       "      <td>9</td>\n",
       "      <td>1</td>\n",
       "      <td>4</td>\n",
       "      <td>4</td>\n",
       "      <td>4</td>\n",
       "      <td>2</td>\n",
       "      <td>3</td>\n",
       "      <td>4</td>\n",
       "      <td></td>\n",
       "      <td>42</td>\n",
       "      <td>3.5</td>\n",
       "      <td>.5</td>\n",
       "      <td>6</td>\n",
       "    </tr>\n",
       "    <tr>\n",
       "      <th>3</th>\n",
       "      <td>3</td>\n",
       "      <td>3</td>\n",
       "      <td>3</td>\n",
       "      <td>3</td>\n",
       "      <td>3</td>\n",
       "      <td>3</td>\n",
       "      <td>3</td>\n",
       "      <td>2</td>\n",
       "      <td>3</td>\n",
       "      <td>3</td>\n",
       "      <td>3</td>\n",
       "      <td>3</td>\n",
       "      <td>3</td>\n",
       "      <td>3</td>\n",
       "      <td>9</td>\n",
       "      <td>1</td>\n",
       "      <td>3</td>\n",
       "      <td>3</td>\n",
       "      <td>3</td>\n",
       "      <td>4</td>\n",
       "      <td>3</td>\n",
       "      <td>3</td>\n",
       "      <td></td>\n",
       "      <td>37</td>\n",
       "      <td>3.08333333333333</td>\n",
       "      <td>.0833333333333335</td>\n",
       "      <td>1</td>\n",
       "    </tr>\n",
       "    <tr>\n",
       "      <th>4</th>\n",
       "      <td>1</td>\n",
       "      <td>5</td>\n",
       "      <td>1</td>\n",
       "      <td>5</td>\n",
       "      <td>5</td>\n",
       "      <td>5</td>\n",
       "      <td>1</td>\n",
       "      <td>1</td>\n",
       "      <td>1</td>\n",
       "      <td>5</td>\n",
       "      <td>1</td>\n",
       "      <td>5</td>\n",
       "      <td>1</td>\n",
       "      <td>1</td>\n",
       "      <td>5</td>\n",
       "      <td>3</td>\n",
       "      <td>5</td>\n",
       "      <td>5</td>\n",
       "      <td>5</td>\n",
       "      <td>5</td>\n",
       "      <td>5</td>\n",
       "      <td>5</td>\n",
       "      <td></td>\n",
       "      <td>60</td>\n",
       "      <td>5</td>\n",
       "      <td>2</td>\n",
       "      <td>24</td>\n",
       "    </tr>\n",
       "  </tbody>\n",
       "</table>\n",
       "</div>"
      ],
      "text/plain": [
       "  V1 V2 V3 V4 V5 V6 V7 V8 V9 V10 V11 V12 HIRE Gender Hours Group R1 R3 R7 R8  \\\n",
       "0  2  4  2  4  4  3  2  2  3   4   2   3    1      3     5     1  4  4  4  4   \n",
       "1  4  2  4  2  1  1  4  4  4   2   4   2    3      3     7     1  2  2  2  2   \n",
       "2  2  4  2  4  3  2  2  4  3   4   2   4    1      3     9     1  4  4  4  2   \n",
       "3  3  3  3  3  3  3  3  2  3   3   3   3    3      3     9     1  3  3  3  4   \n",
       "4  1  5  1  5  5  5  1  1  1   5   1   5    1      1     5     3  5  5  5  5   \n",
       "\n",
       "  R9 R11 VAR00001 Scale           Average          Deviation Deviation2  \n",
       "0  3   4             45              3.75                .75          9  \n",
       "1  2   2             22  1.83333333333333  -1.16666666666667        -14  \n",
       "2  3   4             42               3.5                 .5          6  \n",
       "3  3   3             37  3.08333333333333  .0833333333333335          1  \n",
       "4  5   5             60                 5                  2         24  "
      ]
     },
     "execution_count": 104,
     "metadata": {},
     "output_type": "execute_result"
    }
   ],
   "source": [
    "csv_data = pd.read_csv(r\"c:\\Users\\jusla\\Documents\\Laptop Backup\\Experiment Data.csv\")\n",
    "csv_data.head()"
   ]
  },
  {
   "cell_type": "markdown",
   "metadata": {},
   "source": [
    "### From SQL\n",
    "pandas.read_sql(sql, con, index_col=None, coerce_float=True, params=None, parse_dates=None, columns=None, chunksize=None)\n",
    "[source](https://github.com/pandas-dev/pandas/blob/v1.1.5/pandas/io/parsers.py#L535-L688)"
   ]
  },
  {
   "cell_type": "markdown",
   "metadata": {},
   "source": [
    "#### Please see [Database Connections (DB2)](#https://github.com/juslane13/Data/blob/master/Database%20Connections%20.ipynb) for more information."
   ]
  },
  {
   "cell_type": "markdown",
   "metadata": {},
   "source": [
    "### From JSON\n",
    "pandas.read_json(path_or_buf=None, orient=None, typ='frame', dtype=None, convert_axes=None, convert_dates=True, keep_default_dates=True, numpy=False, precise_float=False, date_unit=None, encoding=None, lines=False, chunksize=None, compression='infer', nrows=None)\n",
    "[source](https://github.com/pandas-dev/pandas/blob/v1.1.5/pandas/io/json/_json.py#L347-L622)"
   ]
  },
  {
   "cell_type": "code",
   "execution_count": 3,
   "metadata": {},
   "outputs": [],
   "source": [
    "df1 = pd.DataFrame([['a', 'b'], ['c', 'd']],\n",
    "                  index=['row 1', 'row 2'],\n",
    "                  columns=['col 1', 'col 2'])\n",
    "df2 = pd.DataFrame([['a', 'b'], ['c', 'd']],\n",
    "                  index=['row 1', 'row 2'],\n",
    "                  columns=['col 1', 'col 2'])\n",
    "df3 = pd.DataFrame([['a', 'b'], ['c', 'd']],\n",
    "                  index=['row 1', 'row 2'],\n",
    "                  columns=['col 1', 'col 2'])"
   ]
  },
  {
   "cell_type": "code",
   "execution_count": 10,
   "metadata": {},
   "outputs": [
    {
     "data": {
      "text/html": [
       "<div>\n",
       "<style scoped>\n",
       "    .dataframe tbody tr th:only-of-type {\n",
       "        vertical-align: middle;\n",
       "    }\n",
       "\n",
       "    .dataframe tbody tr th {\n",
       "        vertical-align: top;\n",
       "    }\n",
       "\n",
       "    .dataframe thead th {\n",
       "        text-align: right;\n",
       "    }\n",
       "</style>\n",
       "<table border=\"1\" class=\"dataframe\">\n",
       "  <thead>\n",
       "    <tr style=\"text-align: right;\">\n",
       "      <th></th>\n",
       "      <th>col 1</th>\n",
       "      <th>col 2</th>\n",
       "    </tr>\n",
       "  </thead>\n",
       "  <tbody>\n",
       "    <tr>\n",
       "      <th>row 1</th>\n",
       "      <td>a</td>\n",
       "      <td>b</td>\n",
       "    </tr>\n",
       "    <tr>\n",
       "      <th>row 2</th>\n",
       "      <td>c</td>\n",
       "      <td>d</td>\n",
       "    </tr>\n",
       "  </tbody>\n",
       "</table>\n",
       "</div>"
      ],
      "text/plain": [
       "      col 1 col 2\n",
       "row 1     a     b\n",
       "row 2     c     d"
      ]
     },
     "execution_count": 10,
     "metadata": {},
     "output_type": "execute_result"
    }
   ],
   "source": [
    "# Orient by Split\n",
    "df1_json = df1.to_json(orient='split')\n",
    "pd.read_json(df1_json, orient='split')"
   ]
  },
  {
   "cell_type": "code",
   "execution_count": 13,
   "metadata": {},
   "outputs": [
    {
     "data": {
      "text/html": [
       "<div>\n",
       "<style scoped>\n",
       "    .dataframe tbody tr th:only-of-type {\n",
       "        vertical-align: middle;\n",
       "    }\n",
       "\n",
       "    .dataframe tbody tr th {\n",
       "        vertical-align: top;\n",
       "    }\n",
       "\n",
       "    .dataframe thead th {\n",
       "        text-align: right;\n",
       "    }\n",
       "</style>\n",
       "<table border=\"1\" class=\"dataframe\">\n",
       "  <thead>\n",
       "    <tr style=\"text-align: right;\">\n",
       "      <th></th>\n",
       "      <th>col 1</th>\n",
       "      <th>col 2</th>\n",
       "    </tr>\n",
       "  </thead>\n",
       "  <tbody>\n",
       "    <tr>\n",
       "      <th>row 1</th>\n",
       "      <td>a</td>\n",
       "      <td>b</td>\n",
       "    </tr>\n",
       "    <tr>\n",
       "      <th>row 2</th>\n",
       "      <td>c</td>\n",
       "      <td>d</td>\n",
       "    </tr>\n",
       "  </tbody>\n",
       "</table>\n",
       "</div>"
      ],
      "text/plain": [
       "      col 1 col 2\n",
       "row 1     a     b\n",
       "row 2     c     d"
      ]
     },
     "execution_count": 13,
     "metadata": {},
     "output_type": "execute_result"
    }
   ],
   "source": [
    "# Orient by Index\n",
    "df2_json = df2.to_json(orient='index')\n",
    "pd.read_json(df2_json, orient='index')"
   ]
  },
  {
   "cell_type": "code",
   "execution_count": 15,
   "metadata": {},
   "outputs": [
    {
     "data": {
      "text/html": [
       "<div>\n",
       "<style scoped>\n",
       "    .dataframe tbody tr th:only-of-type {\n",
       "        vertical-align: middle;\n",
       "    }\n",
       "\n",
       "    .dataframe tbody tr th {\n",
       "        vertical-align: top;\n",
       "    }\n",
       "\n",
       "    .dataframe thead th {\n",
       "        text-align: right;\n",
       "    }\n",
       "</style>\n",
       "<table border=\"1\" class=\"dataframe\">\n",
       "  <thead>\n",
       "    <tr style=\"text-align: right;\">\n",
       "      <th></th>\n",
       "      <th>col 1</th>\n",
       "      <th>col 2</th>\n",
       "    </tr>\n",
       "  </thead>\n",
       "  <tbody>\n",
       "    <tr>\n",
       "      <th>0</th>\n",
       "      <td>a</td>\n",
       "      <td>b</td>\n",
       "    </tr>\n",
       "    <tr>\n",
       "      <th>1</th>\n",
       "      <td>c</td>\n",
       "      <td>d</td>\n",
       "    </tr>\n",
       "  </tbody>\n",
       "</table>\n",
       "</div>"
      ],
      "text/plain": [
       "  col 1 col 2\n",
       "0     a     b\n",
       "1     c     d"
      ]
     },
     "execution_count": 15,
     "metadata": {},
     "output_type": "execute_result"
    }
   ],
   "source": [
    "df3_json = df3.to_json(orient='records')\n",
    "pd.read_json(df3_json, orient='records')"
   ]
  },
  {
   "cell_type": "markdown",
   "metadata": {},
   "source": [
    "### From HTML\n",
    "pandas.read_html(io, match='.+', flavor=None, header=None, index_col=None, skiprows=None, attrs=None, parse_dates=False, thousands=',', encoding=None, decimal='.', converters=None, na_values=None, keep_default_na=True, displayed_only=True)\n",
    "[source](https://github.com/pandas-dev/pandas/blob/v1.1.5/pandas/io/html.py#L928-L1102)"
   ]
  },
  {
   "cell_type": "code",
   "execution_count": null,
   "metadata": {},
   "outputs": [],
   "source": [
    "url = 'https://www.fdic.gov/bank/individual/failed/banklist.html'\n",
    "dfs = pd.read_html(url)\n",
    "dfs"
   ]
  },
  {
   "cell_type": "markdown",
   "metadata": {},
   "source": [
    "## Exploratory Data Analysis"
   ]
  },
  {
   "cell_type": "code",
   "execution_count": 114,
   "metadata": {},
   "outputs": [
    {
     "data": {
      "image/png": "[encoded data removed]",
      "text/plain": [
       "<Figure size 360x360 with 1 Axes>"
      ]
     },
     "metadata": {
      "needs_background": "light"
     },
     "output_type": "display_data"
    }
   ],
   "source": [
    "sns.catplot(data=csv_data, kind='violin',\n",
    "           x='Hours', y='Scale')\n",
    "plt.show()"
   ]
  },
  {
   "cell_type": "code",
   "execution_count": 106,
   "metadata": {},
   "outputs": [
    {
     "data": {
      "image/png": "[encoded data removed]",
      "text/plain": [
       "<Figure size 404.875x360 with 1 Axes>"
      ]
     },
     "metadata": {
      "needs_background": "light"
     },
     "output_type": "display_data"
    }
   ],
   "source": [
    "sns.displot(data=csv_data, kind='hist',\n",
    "           x='Hours', y='Scale', hue='Gender')\n",
    "plt.show()"
   ]
  },
  {
   "cell_type": "markdown",
   "metadata": {},
   "source": [
    "### Change Variable Types as Needed"
   ]
  },
  {
   "cell_type": "code",
   "execution_count": 30,
   "metadata": {},
   "outputs": [
    {
     "name": "stdout",
     "output_type": "stream",
     "text": [
      "Hours Type: <class 'str'>\n",
      "Scale Type: <class 'str'>\n"
     ]
    }
   ],
   "source": [
    "print(\"Hours Type:\", type(csv_data['Hours'][0]))\n",
    "print(\"Scale Type:\", type(csv_data['Scale'][0]))"
   ]
  },
  {
   "cell_type": "code",
   "execution_count": 105,
   "metadata": {},
   "outputs": [
    {
     "name": "stdout",
     "output_type": "stream",
     "text": [
      "Hours Type: <class 'numpy.float64'>\n",
      "Scale Type: <class 'numpy.float64'>\n"
     ]
    }
   ],
   "source": [
    "csv_data['Hours'] = pd.to_numeric(csv_data['Hours'], errors='coerce')\n",
    "csv_data['Scale'] = pd.to_numeric(csv_data['Scale'], errors='coerce')\n",
    "print(\"Hours Type:\", type(csv_data['Hours'][0]))\n",
    "print(\"Scale Type:\", type(csv_data['Scale'][0]))"
   ]
  },
  {
   "cell_type": "markdown",
   "metadata": {},
   "source": [
    "### Look for Anomalies"
   ]
  },
  {
   "cell_type": "code",
   "execution_count": 107,
   "metadata": {},
   "outputs": [
    {
     "data": {
      "text/plain": [
       "V1             1\n",
       "V2             1\n",
       "V3             1\n",
       "V4             1\n",
       "V5             1\n",
       "V6             1\n",
       "V7             1\n",
       "V8             1\n",
       "V9             1\n",
       "V10            1\n",
       "V11            1\n",
       "V12            1\n",
       "HIRE           1\n",
       "Gender         1\n",
       "Hours          1\n",
       "Group          1\n",
       "R1             1\n",
       "R3             1\n",
       "R7             1\n",
       "R8             1\n",
       "R9             1\n",
       "R11            1\n",
       "VAR00001      24\n",
       "Scale          1\n",
       "Average        1\n",
       "Deviation      1\n",
       "Deviation2     1\n",
       "dtype: int64"
      ]
     },
     "execution_count": 107,
     "metadata": {},
     "output_type": "execute_result"
    }
   ],
   "source": [
    "csv_data = csv_data.replace(' ', np.nan)\n",
    "nan_indices = csv_data.isnull().sum()\n",
    "nan_indices"
   ]
  },
  {
   "cell_type": "code",
   "execution_count": 108,
   "metadata": {},
   "outputs": [
    {
     "data": {
      "text/plain": [
       "0       3\n",
       "1       3\n",
       "2       3\n",
       "3       3\n",
       "4       1\n",
       "5       1\n",
       "6       3\n",
       "7       3\n",
       "8       3\n",
       "9       3\n",
       "10      3\n",
       "11      3\n",
       "12      3\n",
       "13      1\n",
       "14      3\n",
       "15      3\n",
       "16      3\n",
       "17      1\n",
       "18      3\n",
       "19      3\n",
       "20      3\n",
       "21      3\n",
       "22      3\n",
       "23    NaN\n",
       "Name: Gender, dtype: object"
      ]
     },
     "execution_count": 108,
     "metadata": {},
     "output_type": "execute_result"
    }
   ],
   "source": [
    "csv_data['Gender']"
   ]
  },
  {
   "cell_type": "code",
   "execution_count": 110,
   "metadata": {},
   "outputs": [
    {
     "data": {
      "text/html": [
       "<div>\n",
       "<style scoped>\n",
       "    .dataframe tbody tr th:only-of-type {\n",
       "        vertical-align: middle;\n",
       "    }\n",
       "\n",
       "    .dataframe tbody tr th {\n",
       "        vertical-align: top;\n",
       "    }\n",
       "\n",
       "    .dataframe thead th {\n",
       "        text-align: right;\n",
       "    }\n",
       "</style>\n",
       "<table border=\"1\" class=\"dataframe\">\n",
       "  <thead>\n",
       "    <tr style=\"text-align: right;\">\n",
       "      <th></th>\n",
       "      <th>V1</th>\n",
       "      <th>V2</th>\n",
       "      <th>V3</th>\n",
       "      <th>V4</th>\n",
       "      <th>V5</th>\n",
       "      <th>V6</th>\n",
       "      <th>V7</th>\n",
       "      <th>V8</th>\n",
       "      <th>V9</th>\n",
       "      <th>V10</th>\n",
       "      <th>V11</th>\n",
       "      <th>V12</th>\n",
       "      <th>HIRE</th>\n",
       "      <th>Gender</th>\n",
       "      <th>Hours</th>\n",
       "      <th>Group</th>\n",
       "      <th>R1</th>\n",
       "      <th>R3</th>\n",
       "      <th>R7</th>\n",
       "      <th>R8</th>\n",
       "      <th>R9</th>\n",
       "      <th>R11</th>\n",
       "      <th>VAR00001</th>\n",
       "      <th>Scale</th>\n",
       "      <th>Average</th>\n",
       "      <th>Deviation</th>\n",
       "      <th>Deviation2</th>\n",
       "    </tr>\n",
       "  </thead>\n",
       "  <tbody>\n",
       "    <tr>\n",
       "      <th>22</th>\n",
       "      <td>1</td>\n",
       "      <td>4</td>\n",
       "      <td>2</td>\n",
       "      <td>4</td>\n",
       "      <td>5</td>\n",
       "      <td>3</td>\n",
       "      <td>2</td>\n",
       "      <td>2</td>\n",
       "      <td>3</td>\n",
       "      <td>4</td>\n",
       "      <td>4</td>\n",
       "      <td>4</td>\n",
       "      <td>1</td>\n",
       "      <td>3</td>\n",
       "      <td>5.0</td>\n",
       "      <td>7</td>\n",
       "      <td>5</td>\n",
       "      <td>4</td>\n",
       "      <td>4</td>\n",
       "      <td>4</td>\n",
       "      <td>3</td>\n",
       "      <td>2</td>\n",
       "      <td>NaN</td>\n",
       "      <td>46.0</td>\n",
       "      <td>3.83333333333333</td>\n",
       "      <td>.833333333333333</td>\n",
       "      <td>10</td>\n",
       "    </tr>\n",
       "    <tr>\n",
       "      <th>23</th>\n",
       "      <td>NaN</td>\n",
       "      <td>NaN</td>\n",
       "      <td>NaN</td>\n",
       "      <td>NaN</td>\n",
       "      <td>NaN</td>\n",
       "      <td>NaN</td>\n",
       "      <td>NaN</td>\n",
       "      <td>NaN</td>\n",
       "      <td>NaN</td>\n",
       "      <td>NaN</td>\n",
       "      <td>NaN</td>\n",
       "      <td>NaN</td>\n",
       "      <td>NaN</td>\n",
       "      <td>NaN</td>\n",
       "      <td>NaN</td>\n",
       "      <td>NaN</td>\n",
       "      <td>NaN</td>\n",
       "      <td>NaN</td>\n",
       "      <td>NaN</td>\n",
       "      <td>NaN</td>\n",
       "      <td>NaN</td>\n",
       "      <td>NaN</td>\n",
       "      <td>NaN</td>\n",
       "      <td>NaN</td>\n",
       "      <td>NaN</td>\n",
       "      <td>NaN</td>\n",
       "      <td>NaN</td>\n",
       "    </tr>\n",
       "  </tbody>\n",
       "</table>\n",
       "</div>"
      ],
      "text/plain": [
       "     V1   V2   V3   V4   V5   V6   V7   V8   V9  V10  V11  V12 HIRE Gender  \\\n",
       "22    1    4    2    4    5    3    2    2    3    4    4    4    1      3   \n",
       "23  NaN  NaN  NaN  NaN  NaN  NaN  NaN  NaN  NaN  NaN  NaN  NaN  NaN    NaN   \n",
       "\n",
       "    Hours Group   R1   R3   R7   R8   R9  R11  VAR00001  Scale  \\\n",
       "22    5.0     7    5    4    4    4    3    2       NaN   46.0   \n",
       "23    NaN   NaN  NaN  NaN  NaN  NaN  NaN  NaN       NaN    NaN   \n",
       "\n",
       "             Average         Deviation Deviation2  \n",
       "22  3.83333333333333  .833333333333333         10  \n",
       "23               NaN               NaN        NaN  "
      ]
     },
     "execution_count": 110,
     "metadata": {},
     "output_type": "execute_result"
    }
   ],
   "source": [
    "csv_data[23:]"
   ]
  },
  {
   "cell_type": "code",
   "execution_count": 90,
   "metadata": {},
   "outputs": [
    {
     "data": {
      "text/plain": [
       "0    NaN\n",
       "1    NaN\n",
       "2    NaN\n",
       "3    NaN\n",
       "4    NaN\n",
       "5    NaN\n",
       "6    NaN\n",
       "7    NaN\n",
       "8    NaN\n",
       "9    NaN\n",
       "10   NaN\n",
       "11   NaN\n",
       "12   NaN\n",
       "13   NaN\n",
       "14   NaN\n",
       "15   NaN\n",
       "16   NaN\n",
       "17   NaN\n",
       "18   NaN\n",
       "19   NaN\n",
       "20   NaN\n",
       "21   NaN\n",
       "22   NaN\n",
       "23   NaN\n",
       "Name: VAR00001, dtype: float64"
      ]
     },
     "execution_count": 90,
     "metadata": {},
     "output_type": "execute_result"
    }
   ],
   "source": [
    "csv_data[\"VAR00001\"]"
   ]
  },
  {
   "cell_type": "markdown",
   "metadata": {},
   "source": [
    "### Remove Data Points as Needed"
   ]
  },
  {
   "cell_type": "code",
   "execution_count": 113,
   "metadata": {},
   "outputs": [
    {
     "data": {
      "text/html": [
       "<div>\n",
       "<style scoped>\n",
       "    .dataframe tbody tr th:only-of-type {\n",
       "        vertical-align: middle;\n",
       "    }\n",
       "\n",
       "    .dataframe tbody tr th {\n",
       "        vertical-align: top;\n",
       "    }\n",
       "\n",
       "    .dataframe thead th {\n",
       "        text-align: right;\n",
       "    }\n",
       "</style>\n",
       "<table border=\"1\" class=\"dataframe\">\n",
       "  <thead>\n",
       "    <tr style=\"text-align: right;\">\n",
       "      <th></th>\n",
       "      <th>V1</th>\n",
       "      <th>V2</th>\n",
       "      <th>V3</th>\n",
       "      <th>V4</th>\n",
       "      <th>V5</th>\n",
       "      <th>V6</th>\n",
       "      <th>V7</th>\n",
       "      <th>V8</th>\n",
       "      <th>V9</th>\n",
       "      <th>V10</th>\n",
       "      <th>V11</th>\n",
       "      <th>V12</th>\n",
       "      <th>HIRE</th>\n",
       "      <th>Gender</th>\n",
       "      <th>Hours</th>\n",
       "      <th>Group</th>\n",
       "      <th>R1</th>\n",
       "      <th>R3</th>\n",
       "      <th>R7</th>\n",
       "      <th>R8</th>\n",
       "      <th>R9</th>\n",
       "      <th>R11</th>\n",
       "      <th>Scale</th>\n",
       "      <th>Average</th>\n",
       "      <th>Deviation</th>\n",
       "      <th>Deviation2</th>\n",
       "    </tr>\n",
       "  </thead>\n",
       "  <tbody>\n",
       "    <tr>\n",
       "      <th>0</th>\n",
       "      <td>2</td>\n",
       "      <td>4</td>\n",
       "      <td>2</td>\n",
       "      <td>4</td>\n",
       "      <td>4</td>\n",
       "      <td>3</td>\n",
       "      <td>2</td>\n",
       "      <td>2</td>\n",
       "      <td>3</td>\n",
       "      <td>4</td>\n",
       "      <td>2</td>\n",
       "      <td>3</td>\n",
       "      <td>1</td>\n",
       "      <td>3</td>\n",
       "      <td>5.0</td>\n",
       "      <td>1</td>\n",
       "      <td>4</td>\n",
       "      <td>4</td>\n",
       "      <td>4</td>\n",
       "      <td>4</td>\n",
       "      <td>3</td>\n",
       "      <td>4</td>\n",
       "      <td>45.0</td>\n",
       "      <td>3.75</td>\n",
       "      <td>.75</td>\n",
       "      <td>9</td>\n",
       "    </tr>\n",
       "    <tr>\n",
       "      <th>1</th>\n",
       "      <td>4</td>\n",
       "      <td>2</td>\n",
       "      <td>4</td>\n",
       "      <td>2</td>\n",
       "      <td>1</td>\n",
       "      <td>1</td>\n",
       "      <td>4</td>\n",
       "      <td>4</td>\n",
       "      <td>4</td>\n",
       "      <td>2</td>\n",
       "      <td>4</td>\n",
       "      <td>2</td>\n",
       "      <td>3</td>\n",
       "      <td>3</td>\n",
       "      <td>7.0</td>\n",
       "      <td>1</td>\n",
       "      <td>2</td>\n",
       "      <td>2</td>\n",
       "      <td>2</td>\n",
       "      <td>2</td>\n",
       "      <td>2</td>\n",
       "      <td>2</td>\n",
       "      <td>22.0</td>\n",
       "      <td>1.83333333333333</td>\n",
       "      <td>-1.16666666666667</td>\n",
       "      <td>-14</td>\n",
       "    </tr>\n",
       "    <tr>\n",
       "      <th>2</th>\n",
       "      <td>2</td>\n",
       "      <td>4</td>\n",
       "      <td>2</td>\n",
       "      <td>4</td>\n",
       "      <td>3</td>\n",
       "      <td>2</td>\n",
       "      <td>2</td>\n",
       "      <td>4</td>\n",
       "      <td>3</td>\n",
       "      <td>4</td>\n",
       "      <td>2</td>\n",
       "      <td>4</td>\n",
       "      <td>1</td>\n",
       "      <td>3</td>\n",
       "      <td>9.0</td>\n",
       "      <td>1</td>\n",
       "      <td>4</td>\n",
       "      <td>4</td>\n",
       "      <td>4</td>\n",
       "      <td>2</td>\n",
       "      <td>3</td>\n",
       "      <td>4</td>\n",
       "      <td>42.0</td>\n",
       "      <td>3.5</td>\n",
       "      <td>.5</td>\n",
       "      <td>6</td>\n",
       "    </tr>\n",
       "    <tr>\n",
       "      <th>3</th>\n",
       "      <td>3</td>\n",
       "      <td>3</td>\n",
       "      <td>3</td>\n",
       "      <td>3</td>\n",
       "      <td>3</td>\n",
       "      <td>3</td>\n",
       "      <td>3</td>\n",
       "      <td>2</td>\n",
       "      <td>3</td>\n",
       "      <td>3</td>\n",
       "      <td>3</td>\n",
       "      <td>3</td>\n",
       "      <td>3</td>\n",
       "      <td>3</td>\n",
       "      <td>9.0</td>\n",
       "      <td>1</td>\n",
       "      <td>3</td>\n",
       "      <td>3</td>\n",
       "      <td>3</td>\n",
       "      <td>4</td>\n",
       "      <td>3</td>\n",
       "      <td>3</td>\n",
       "      <td>37.0</td>\n",
       "      <td>3.08333333333333</td>\n",
       "      <td>.0833333333333335</td>\n",
       "      <td>1</td>\n",
       "    </tr>\n",
       "    <tr>\n",
       "      <th>4</th>\n",
       "      <td>1</td>\n",
       "      <td>5</td>\n",
       "      <td>1</td>\n",
       "      <td>5</td>\n",
       "      <td>5</td>\n",
       "      <td>5</td>\n",
       "      <td>1</td>\n",
       "      <td>1</td>\n",
       "      <td>1</td>\n",
       "      <td>5</td>\n",
       "      <td>1</td>\n",
       "      <td>5</td>\n",
       "      <td>1</td>\n",
       "      <td>1</td>\n",
       "      <td>5.0</td>\n",
       "      <td>3</td>\n",
       "      <td>5</td>\n",
       "      <td>5</td>\n",
       "      <td>5</td>\n",
       "      <td>5</td>\n",
       "      <td>5</td>\n",
       "      <td>5</td>\n",
       "      <td>60.0</td>\n",
       "      <td>5</td>\n",
       "      <td>2</td>\n",
       "      <td>24</td>\n",
       "    </tr>\n",
       "    <tr>\n",
       "      <th>5</th>\n",
       "      <td>2</td>\n",
       "      <td>4</td>\n",
       "      <td>3</td>\n",
       "      <td>3</td>\n",
       "      <td>3</td>\n",
       "      <td>4</td>\n",
       "      <td>2</td>\n",
       "      <td>2</td>\n",
       "      <td>2</td>\n",
       "      <td>4</td>\n",
       "      <td>3</td>\n",
       "      <td>3</td>\n",
       "      <td>1</td>\n",
       "      <td>1</td>\n",
       "      <td>1.0</td>\n",
       "      <td>3</td>\n",
       "      <td>4</td>\n",
       "      <td>3</td>\n",
       "      <td>4</td>\n",
       "      <td>4</td>\n",
       "      <td>4</td>\n",
       "      <td>3</td>\n",
       "      <td>43.0</td>\n",
       "      <td>3.58333333333333</td>\n",
       "      <td>.583333333333333</td>\n",
       "      <td>7</td>\n",
       "    </tr>\n",
       "    <tr>\n",
       "      <th>6</th>\n",
       "      <td>1</td>\n",
       "      <td>5</td>\n",
       "      <td>1</td>\n",
       "      <td>5</td>\n",
       "      <td>5</td>\n",
       "      <td>5</td>\n",
       "      <td>1</td>\n",
       "      <td>1</td>\n",
       "      <td>3</td>\n",
       "      <td>3</td>\n",
       "      <td>3</td>\n",
       "      <td>3</td>\n",
       "      <td>1</td>\n",
       "      <td>3</td>\n",
       "      <td>7.0</td>\n",
       "      <td>3</td>\n",
       "      <td>5</td>\n",
       "      <td>5</td>\n",
       "      <td>5</td>\n",
       "      <td>5</td>\n",
       "      <td>3</td>\n",
       "      <td>3</td>\n",
       "      <td>52.0</td>\n",
       "      <td>4.33333333333333</td>\n",
       "      <td>1.33333333333333</td>\n",
       "      <td>16</td>\n",
       "    </tr>\n",
       "    <tr>\n",
       "      <th>7</th>\n",
       "      <td>2</td>\n",
       "      <td>4</td>\n",
       "      <td>2</td>\n",
       "      <td>4</td>\n",
       "      <td>4</td>\n",
       "      <td>4</td>\n",
       "      <td>2</td>\n",
       "      <td>2</td>\n",
       "      <td>2</td>\n",
       "      <td>4</td>\n",
       "      <td>2</td>\n",
       "      <td>4</td>\n",
       "      <td>1</td>\n",
       "      <td>3</td>\n",
       "      <td>5.0</td>\n",
       "      <td>3</td>\n",
       "      <td>4</td>\n",
       "      <td>4</td>\n",
       "      <td>4</td>\n",
       "      <td>4</td>\n",
       "      <td>4</td>\n",
       "      <td>4</td>\n",
       "      <td>48.0</td>\n",
       "      <td>4</td>\n",
       "      <td>1</td>\n",
       "      <td>12</td>\n",
       "    </tr>\n",
       "    <tr>\n",
       "      <th>8</th>\n",
       "      <td>2</td>\n",
       "      <td>5</td>\n",
       "      <td>1</td>\n",
       "      <td>4</td>\n",
       "      <td>5</td>\n",
       "      <td>5</td>\n",
       "      <td>1</td>\n",
       "      <td>2</td>\n",
       "      <td>1</td>\n",
       "      <td>5</td>\n",
       "      <td>1</td>\n",
       "      <td>4</td>\n",
       "      <td>1</td>\n",
       "      <td>3</td>\n",
       "      <td>9.0</td>\n",
       "      <td>3</td>\n",
       "      <td>4</td>\n",
       "      <td>5</td>\n",
       "      <td>5</td>\n",
       "      <td>4</td>\n",
       "      <td>5</td>\n",
       "      <td>5</td>\n",
       "      <td>56.0</td>\n",
       "      <td>4.66666666666667</td>\n",
       "      <td>1.66666666666667</td>\n",
       "      <td>20</td>\n",
       "    </tr>\n",
       "    <tr>\n",
       "      <th>9</th>\n",
       "      <td>2</td>\n",
       "      <td>4</td>\n",
       "      <td>2</td>\n",
       "      <td>3</td>\n",
       "      <td>4</td>\n",
       "      <td>3</td>\n",
       "      <td>2</td>\n",
       "      <td>2</td>\n",
       "      <td>2</td>\n",
       "      <td>4</td>\n",
       "      <td>2</td>\n",
       "      <td>4</td>\n",
       "      <td>1</td>\n",
       "      <td>3</td>\n",
       "      <td>7.0</td>\n",
       "      <td>3</td>\n",
       "      <td>4</td>\n",
       "      <td>4</td>\n",
       "      <td>4</td>\n",
       "      <td>4</td>\n",
       "      <td>4</td>\n",
       "      <td>4</td>\n",
       "      <td>46.0</td>\n",
       "      <td>3.83333333333333</td>\n",
       "      <td>.833333333333333</td>\n",
       "      <td>10</td>\n",
       "    </tr>\n",
       "    <tr>\n",
       "      <th>10</th>\n",
       "      <td>1</td>\n",
       "      <td>4</td>\n",
       "      <td>3</td>\n",
       "      <td>3</td>\n",
       "      <td>4</td>\n",
       "      <td>3</td>\n",
       "      <td>1</td>\n",
       "      <td>2</td>\n",
       "      <td>3</td>\n",
       "      <td>4</td>\n",
       "      <td>3</td>\n",
       "      <td>4</td>\n",
       "      <td>1</td>\n",
       "      <td>3</td>\n",
       "      <td>5.0</td>\n",
       "      <td>3</td>\n",
       "      <td>5</td>\n",
       "      <td>3</td>\n",
       "      <td>5</td>\n",
       "      <td>4</td>\n",
       "      <td>3</td>\n",
       "      <td>3</td>\n",
       "      <td>45.0</td>\n",
       "      <td>3.75</td>\n",
       "      <td>.75</td>\n",
       "      <td>9</td>\n",
       "    </tr>\n",
       "    <tr>\n",
       "      <th>11</th>\n",
       "      <td>2</td>\n",
       "      <td>4</td>\n",
       "      <td>2</td>\n",
       "      <td>3</td>\n",
       "      <td>3</td>\n",
       "      <td>4</td>\n",
       "      <td>2</td>\n",
       "      <td>2</td>\n",
       "      <td>3</td>\n",
       "      <td>3</td>\n",
       "      <td>2</td>\n",
       "      <td>3</td>\n",
       "      <td>1</td>\n",
       "      <td>3</td>\n",
       "      <td>5.0</td>\n",
       "      <td>5</td>\n",
       "      <td>4</td>\n",
       "      <td>4</td>\n",
       "      <td>4</td>\n",
       "      <td>4</td>\n",
       "      <td>3</td>\n",
       "      <td>4</td>\n",
       "      <td>43.0</td>\n",
       "      <td>3.58333333333333</td>\n",
       "      <td>.583333333333333</td>\n",
       "      <td>7</td>\n",
       "    </tr>\n",
       "    <tr>\n",
       "      <th>12</th>\n",
       "      <td>1</td>\n",
       "      <td>5</td>\n",
       "      <td>2</td>\n",
       "      <td>3</td>\n",
       "      <td>4</td>\n",
       "      <td>2</td>\n",
       "      <td>1</td>\n",
       "      <td>2</td>\n",
       "      <td>2</td>\n",
       "      <td>4</td>\n",
       "      <td>2</td>\n",
       "      <td>4</td>\n",
       "      <td>1</td>\n",
       "      <td>3</td>\n",
       "      <td>9.0</td>\n",
       "      <td>5</td>\n",
       "      <td>5</td>\n",
       "      <td>4</td>\n",
       "      <td>5</td>\n",
       "      <td>4</td>\n",
       "      <td>4</td>\n",
       "      <td>4</td>\n",
       "      <td>48.0</td>\n",
       "      <td>4</td>\n",
       "      <td>1</td>\n",
       "      <td>12</td>\n",
       "    </tr>\n",
       "    <tr>\n",
       "      <th>13</th>\n",
       "      <td>2</td>\n",
       "      <td>3</td>\n",
       "      <td>2</td>\n",
       "      <td>3</td>\n",
       "      <td>3</td>\n",
       "      <td>3</td>\n",
       "      <td>2</td>\n",
       "      <td>2</td>\n",
       "      <td>3</td>\n",
       "      <td>3</td>\n",
       "      <td>3</td>\n",
       "      <td>3</td>\n",
       "      <td>1</td>\n",
       "      <td>1</td>\n",
       "      <td>7.0</td>\n",
       "      <td>5</td>\n",
       "      <td>4</td>\n",
       "      <td>4</td>\n",
       "      <td>4</td>\n",
       "      <td>4</td>\n",
       "      <td>3</td>\n",
       "      <td>3</td>\n",
       "      <td>40.0</td>\n",
       "      <td>3.33333333333333</td>\n",
       "      <td>.333333333333333</td>\n",
       "      <td>4</td>\n",
       "    </tr>\n",
       "    <tr>\n",
       "      <th>14</th>\n",
       "      <td>2</td>\n",
       "      <td>4</td>\n",
       "      <td>3</td>\n",
       "      <td>3</td>\n",
       "      <td>4</td>\n",
       "      <td>3</td>\n",
       "      <td>3</td>\n",
       "      <td>2</td>\n",
       "      <td>3</td>\n",
       "      <td>4</td>\n",
       "      <td>3</td>\n",
       "      <td>3</td>\n",
       "      <td>3</td>\n",
       "      <td>3</td>\n",
       "      <td>5.0</td>\n",
       "      <td>5</td>\n",
       "      <td>4</td>\n",
       "      <td>3</td>\n",
       "      <td>3</td>\n",
       "      <td>4</td>\n",
       "      <td>3</td>\n",
       "      <td>3</td>\n",
       "      <td>41.0</td>\n",
       "      <td>3.41666666666667</td>\n",
       "      <td>.416666666666667</td>\n",
       "      <td>5</td>\n",
       "    </tr>\n",
       "    <tr>\n",
       "      <th>15</th>\n",
       "      <td>1</td>\n",
       "      <td>4</td>\n",
       "      <td>2</td>\n",
       "      <td>4</td>\n",
       "      <td>4</td>\n",
       "      <td>4</td>\n",
       "      <td>2</td>\n",
       "      <td>4</td>\n",
       "      <td>3</td>\n",
       "      <td>4</td>\n",
       "      <td>2</td>\n",
       "      <td>2</td>\n",
       "      <td>1</td>\n",
       "      <td>3</td>\n",
       "      <td>9.0</td>\n",
       "      <td>5</td>\n",
       "      <td>5</td>\n",
       "      <td>4</td>\n",
       "      <td>4</td>\n",
       "      <td>2</td>\n",
       "      <td>3</td>\n",
       "      <td>4</td>\n",
       "      <td>44.0</td>\n",
       "      <td>3.66666666666667</td>\n",
       "      <td>.666666666666667</td>\n",
       "      <td>8</td>\n",
       "    </tr>\n",
       "    <tr>\n",
       "      <th>16</th>\n",
       "      <td>2</td>\n",
       "      <td>4</td>\n",
       "      <td>2</td>\n",
       "      <td>4</td>\n",
       "      <td>4</td>\n",
       "      <td>4</td>\n",
       "      <td>2</td>\n",
       "      <td>2</td>\n",
       "      <td>2</td>\n",
       "      <td>4</td>\n",
       "      <td>2</td>\n",
       "      <td>3</td>\n",
       "      <td>1</td>\n",
       "      <td>3</td>\n",
       "      <td>7.0</td>\n",
       "      <td>5</td>\n",
       "      <td>4</td>\n",
       "      <td>4</td>\n",
       "      <td>4</td>\n",
       "      <td>4</td>\n",
       "      <td>4</td>\n",
       "      <td>4</td>\n",
       "      <td>47.0</td>\n",
       "      <td>3.91666666666667</td>\n",
       "      <td>.916666666666667</td>\n",
       "      <td>11</td>\n",
       "    </tr>\n",
       "    <tr>\n",
       "      <th>17</th>\n",
       "      <td>1</td>\n",
       "      <td>4</td>\n",
       "      <td>1</td>\n",
       "      <td>4</td>\n",
       "      <td>4</td>\n",
       "      <td>3</td>\n",
       "      <td>2</td>\n",
       "      <td>2</td>\n",
       "      <td>4</td>\n",
       "      <td>4</td>\n",
       "      <td>2</td>\n",
       "      <td>3</td>\n",
       "      <td>1</td>\n",
       "      <td>1</td>\n",
       "      <td>7.0</td>\n",
       "      <td>5</td>\n",
       "      <td>5</td>\n",
       "      <td>5</td>\n",
       "      <td>4</td>\n",
       "      <td>4</td>\n",
       "      <td>2</td>\n",
       "      <td>4</td>\n",
       "      <td>46.0</td>\n",
       "      <td>3.83333333333333</td>\n",
       "      <td>.833333333333333</td>\n",
       "      <td>10</td>\n",
       "    </tr>\n",
       "    <tr>\n",
       "      <th>18</th>\n",
       "      <td>2</td>\n",
       "      <td>4</td>\n",
       "      <td>2</td>\n",
       "      <td>4</td>\n",
       "      <td>4</td>\n",
       "      <td>3</td>\n",
       "      <td>2</td>\n",
       "      <td>2</td>\n",
       "      <td>2</td>\n",
       "      <td>4</td>\n",
       "      <td>2</td>\n",
       "      <td>3</td>\n",
       "      <td>1</td>\n",
       "      <td>3</td>\n",
       "      <td>1.0</td>\n",
       "      <td>7</td>\n",
       "      <td>4</td>\n",
       "      <td>4</td>\n",
       "      <td>4</td>\n",
       "      <td>4</td>\n",
       "      <td>4</td>\n",
       "      <td>4</td>\n",
       "      <td>46.0</td>\n",
       "      <td>3.83333333333333</td>\n",
       "      <td>.833333333333333</td>\n",
       "      <td>10</td>\n",
       "    </tr>\n",
       "    <tr>\n",
       "      <th>19</th>\n",
       "      <td>3</td>\n",
       "      <td>3</td>\n",
       "      <td>2</td>\n",
       "      <td>3</td>\n",
       "      <td>3</td>\n",
       "      <td>3</td>\n",
       "      <td>3</td>\n",
       "      <td>2</td>\n",
       "      <td>3</td>\n",
       "      <td>3</td>\n",
       "      <td>2</td>\n",
       "      <td>2</td>\n",
       "      <td>1</td>\n",
       "      <td>3</td>\n",
       "      <td>9.0</td>\n",
       "      <td>7</td>\n",
       "      <td>3</td>\n",
       "      <td>4</td>\n",
       "      <td>3</td>\n",
       "      <td>4</td>\n",
       "      <td>3</td>\n",
       "      <td>4</td>\n",
       "      <td>38.0</td>\n",
       "      <td>3.16666666666667</td>\n",
       "      <td>.166666666666667</td>\n",
       "      <td>2</td>\n",
       "    </tr>\n",
       "    <tr>\n",
       "      <th>20</th>\n",
       "      <td>2</td>\n",
       "      <td>4</td>\n",
       "      <td>3</td>\n",
       "      <td>4</td>\n",
       "      <td>3</td>\n",
       "      <td>3</td>\n",
       "      <td>2</td>\n",
       "      <td>2</td>\n",
       "      <td>3</td>\n",
       "      <td>3</td>\n",
       "      <td>3</td>\n",
       "      <td>3</td>\n",
       "      <td>1</td>\n",
       "      <td>3</td>\n",
       "      <td>7.0</td>\n",
       "      <td>7</td>\n",
       "      <td>4</td>\n",
       "      <td>3</td>\n",
       "      <td>4</td>\n",
       "      <td>4</td>\n",
       "      <td>3</td>\n",
       "      <td>3</td>\n",
       "      <td>41.0</td>\n",
       "      <td>3.41666666666667</td>\n",
       "      <td>.416666666666667</td>\n",
       "      <td>5</td>\n",
       "    </tr>\n",
       "    <tr>\n",
       "      <th>21</th>\n",
       "      <td>4</td>\n",
       "      <td>3</td>\n",
       "      <td>3</td>\n",
       "      <td>4</td>\n",
       "      <td>3</td>\n",
       "      <td>2</td>\n",
       "      <td>3</td>\n",
       "      <td>4</td>\n",
       "      <td>2</td>\n",
       "      <td>4</td>\n",
       "      <td>2</td>\n",
       "      <td>4</td>\n",
       "      <td>3</td>\n",
       "      <td>3</td>\n",
       "      <td>5.0</td>\n",
       "      <td>7</td>\n",
       "      <td>2</td>\n",
       "      <td>3</td>\n",
       "      <td>3</td>\n",
       "      <td>2</td>\n",
       "      <td>4</td>\n",
       "      <td>4</td>\n",
       "      <td>38.0</td>\n",
       "      <td>3.16666666666667</td>\n",
       "      <td>.166666666666667</td>\n",
       "      <td>2</td>\n",
       "    </tr>\n",
       "    <tr>\n",
       "      <th>22</th>\n",
       "      <td>1</td>\n",
       "      <td>4</td>\n",
       "      <td>2</td>\n",
       "      <td>4</td>\n",
       "      <td>5</td>\n",
       "      <td>3</td>\n",
       "      <td>2</td>\n",
       "      <td>2</td>\n",
       "      <td>3</td>\n",
       "      <td>4</td>\n",
       "      <td>4</td>\n",
       "      <td>4</td>\n",
       "      <td>1</td>\n",
       "      <td>3</td>\n",
       "      <td>5.0</td>\n",
       "      <td>7</td>\n",
       "      <td>5</td>\n",
       "      <td>4</td>\n",
       "      <td>4</td>\n",
       "      <td>4</td>\n",
       "      <td>3</td>\n",
       "      <td>2</td>\n",
       "      <td>46.0</td>\n",
       "      <td>3.83333333333333</td>\n",
       "      <td>.833333333333333</td>\n",
       "      <td>10</td>\n",
       "    </tr>\n",
       "  </tbody>\n",
       "</table>\n",
       "</div>"
      ],
      "text/plain": [
       "   V1 V2 V3 V4 V5 V6 V7 V8 V9 V10 V11 V12 HIRE Gender  Hours Group R1 R3 R7  \\\n",
       "0   2  4  2  4  4  3  2  2  3   4   2   3    1      3    5.0     1  4  4  4   \n",
       "1   4  2  4  2  1  1  4  4  4   2   4   2    3      3    7.0     1  2  2  2   \n",
       "2   2  4  2  4  3  2  2  4  3   4   2   4    1      3    9.0     1  4  4  4   \n",
       "3   3  3  3  3  3  3  3  2  3   3   3   3    3      3    9.0     1  3  3  3   \n",
       "4   1  5  1  5  5  5  1  1  1   5   1   5    1      1    5.0     3  5  5  5   \n",
       "5   2  4  3  3  3  4  2  2  2   4   3   3    1      1    1.0     3  4  3  4   \n",
       "6   1  5  1  5  5  5  1  1  3   3   3   3    1      3    7.0     3  5  5  5   \n",
       "7   2  4  2  4  4  4  2  2  2   4   2   4    1      3    5.0     3  4  4  4   \n",
       "8   2  5  1  4  5  5  1  2  1   5   1   4    1      3    9.0     3  4  5  5   \n",
       "9   2  4  2  3  4  3  2  2  2   4   2   4    1      3    7.0     3  4  4  4   \n",
       "10  1  4  3  3  4  3  1  2  3   4   3   4    1      3    5.0     3  5  3  5   \n",
       "11  2  4  2  3  3  4  2  2  3   3   2   3    1      3    5.0     5  4  4  4   \n",
       "12  1  5  2  3  4  2  1  2  2   4   2   4    1      3    9.0     5  5  4  5   \n",
       "13  2  3  2  3  3  3  2  2  3   3   3   3    1      1    7.0     5  4  4  4   \n",
       "14  2  4  3  3  4  3  3  2  3   4   3   3    3      3    5.0     5  4  3  3   \n",
       "15  1  4  2  4  4  4  2  4  3   4   2   2    1      3    9.0     5  5  4  4   \n",
       "16  2  4  2  4  4  4  2  2  2   4   2   3    1      3    7.0     5  4  4  4   \n",
       "17  1  4  1  4  4  3  2  2  4   4   2   3    1      1    7.0     5  5  5  4   \n",
       "18  2  4  2  4  4  3  2  2  2   4   2   3    1      3    1.0     7  4  4  4   \n",
       "19  3  3  2  3  3  3  3  2  3   3   2   2    1      3    9.0     7  3  4  3   \n",
       "20  2  4  3  4  3  3  2  2  3   3   3   3    1      3    7.0     7  4  3  4   \n",
       "21  4  3  3  4  3  2  3  4  2   4   2   4    3      3    5.0     7  2  3  3   \n",
       "22  1  4  2  4  5  3  2  2  3   4   4   4    1      3    5.0     7  5  4  4   \n",
       "\n",
       "   R8 R9 R11  Scale           Average          Deviation Deviation2  \n",
       "0   4  3   4   45.0              3.75                .75          9  \n",
       "1   2  2   2   22.0  1.83333333333333  -1.16666666666667        -14  \n",
       "2   2  3   4   42.0               3.5                 .5          6  \n",
       "3   4  3   3   37.0  3.08333333333333  .0833333333333335          1  \n",
       "4   5  5   5   60.0                 5                  2         24  \n",
       "5   4  4   3   43.0  3.58333333333333   .583333333333333          7  \n",
       "6   5  3   3   52.0  4.33333333333333   1.33333333333333         16  \n",
       "7   4  4   4   48.0                 4                  1         12  \n",
       "8   4  5   5   56.0  4.66666666666667   1.66666666666667         20  \n",
       "9   4  4   4   46.0  3.83333333333333   .833333333333333         10  \n",
       "10  4  3   3   45.0              3.75                .75          9  \n",
       "11  4  3   4   43.0  3.58333333333333   .583333333333333          7  \n",
       "12  4  4   4   48.0                 4                  1         12  \n",
       "13  4  3   3   40.0  3.33333333333333   .333333333333333          4  \n",
       "14  4  3   3   41.0  3.41666666666667   .416666666666667          5  \n",
       "15  2  3   4   44.0  3.66666666666667   .666666666666667          8  \n",
       "16  4  4   4   47.0  3.91666666666667   .916666666666667         11  \n",
       "17  4  2   4   46.0  3.83333333333333   .833333333333333         10  \n",
       "18  4  4   4   46.0  3.83333333333333   .833333333333333         10  \n",
       "19  4  3   4   38.0  3.16666666666667   .166666666666667          2  \n",
       "20  4  3   3   41.0  3.41666666666667   .416666666666667          5  \n",
       "21  2  4   4   38.0  3.16666666666667   .166666666666667          2  \n",
       "22  4  3   2   46.0  3.83333333333333   .833333333333333         10  "
      ]
     },
     "execution_count": 113,
     "metadata": {},
     "output_type": "execute_result"
    }
   ],
   "source": [
    "csv_data = csv_data.drop(labels=\"VAR00001\", axis=1)\n",
    "csv_data = csv_data[0:23]\n",
    "csv_data"
   ]
  },
  {
   "cell_type": "markdown",
   "metadata": {},
   "source": [
    "## Pandas"
   ]
  },
  {
   "cell_type": "code",
   "execution_count": 64,
   "metadata": {},
   "outputs": [
    {
     "data": {
      "text/html": [
       "<div>\n",
       "<style scoped>\n",
       "    .dataframe tbody tr th:only-of-type {\n",
       "        vertical-align: middle;\n",
       "    }\n",
       "\n",
       "    .dataframe tbody tr th {\n",
       "        vertical-align: top;\n",
       "    }\n",
       "\n",
       "    .dataframe thead th {\n",
       "        text-align: right;\n",
       "    }\n",
       "</style>\n",
       "<table border=\"1\" class=\"dataframe\">\n",
       "  <thead>\n",
       "    <tr style=\"text-align: right;\">\n",
       "      <th></th>\n",
       "      <th>Band</th>\n",
       "      <th>Genre</th>\n",
       "      <th>Song</th>\n",
       "    </tr>\n",
       "  </thead>\n",
       "  <tbody>\n",
       "    <tr>\n",
       "      <th>0</th>\n",
       "      <td>Tool</td>\n",
       "      <td>Progressive Metal</td>\n",
       "      <td>Forty Six &amp; 2</td>\n",
       "    </tr>\n",
       "    <tr>\n",
       "      <th>1</th>\n",
       "      <td>Pink Floyd</td>\n",
       "      <td>Progressive Rock</td>\n",
       "      <td>Comfortably Numb</td>\n",
       "    </tr>\n",
       "    <tr>\n",
       "      <th>2</th>\n",
       "      <td>Rush</td>\n",
       "      <td>Progressive Rock</td>\n",
       "      <td>Tom Sawyer</td>\n",
       "    </tr>\n",
       "    <tr>\n",
       "      <th>3</th>\n",
       "      <td>Circa Survive</td>\n",
       "      <td>Indie</td>\n",
       "      <td>Lazarus</td>\n",
       "    </tr>\n",
       "  </tbody>\n",
       "</table>\n",
       "</div>"
      ],
      "text/plain": [
       "            Band              Genre              Song\n",
       "0           Tool  Progressive Metal     Forty Six & 2\n",
       "1     Pink Floyd   Progressive Rock  Comfortably Numb\n",
       "2           Rush   Progressive Rock        Tom Sawyer\n",
       "3  Circa Survive              Indie           Lazarus"
      ]
     },
     "execution_count": 64,
     "metadata": {},
     "output_type": "execute_result"
    }
   ],
   "source": [
    "import pandas as pd\n",
    "\n",
    "df_dict = {\"Band\": [\"Tool\", \"Pink Floyd\", \"Rush\"],\n",
    "           \"Genre\": [\"Progressive Metal\", \"Progressive Rock\", \"Progressive Rock\"],\n",
    "           \"Song\": [\"Forty Six & 2\", \"Comfortably Numb\", \"Tom Sawyer\"]}\n",
    "df = pd.DataFrame(df_dict)\n",
    "df = df.append({\"Band\": \"Circa Survive\",\n",
    "                \"Genre\": \"Indie\",\n",
    "                \"Song\": \"Lazarus\"}, ignore_index=True)\n",
    "df"
   ]
  },
  {
   "cell_type": "markdown",
   "metadata": {},
   "source": [
    "### .loc\n",
    ".loc is primarily label based; when two arguments are used, you use column headers and row indexes to select the data you want. .loc can also take an integer as a row or column number.\n",
    "[source](https://pandas.pydata.org/pandas-docs/stable/reference/api/pandas.DataFrame.loc.html)"
   ]
  },
  {
   "cell_type": "code",
   "execution_count": 52,
   "metadata": {},
   "outputs": [
    {
     "name": "stdout",
     "output_type": "stream",
     "text": [
      "Band 0:\n",
      " Band: Tool \tGenre: Progressive Metal \tSong: Forty Six & 2\n",
      "Band 1:\n",
      " Band: Pink Floyd \tGenre: Progressive Rock \tSong: Comfortably Numb\n",
      "Band 2:\n",
      " Band: Circa Survive \tGenre: Indie \tSong: Lazarus\n"
     ]
    }
   ],
   "source": [
    "def print_df(df):\n",
    "    for i in range(len(df['Band'])):\n",
    "        print(\"Band {}:\\n\".format(i),\n",
    "              \"Band: {}\".format(df.loc[i, \"Band\"]),  # Uses an integer index for first argument and a key for the second; \n",
    "              \"\\tGenre: {}\".format(df.loc[i, \"Genre\"]), # [0, \"Genre\"] in this case\n",
    "              \"\\tSong: {}\".format(df.loc[i, \"Song\"]))\n",
    "\n",
    "print_df(df)"
   ]
  },
  {
   "cell_type": "markdown",
   "metadata": {},
   "source": [
    "### .iloc\n",
    ".iloc is integer-based. You use column numbers and row numbers to get rows or columns at particular positions in the data frame. [source](https://pandas.pydata.org/pandas-docs/stable/reference/api/pandas.DataFrame.iloc.html)"
   ]
  },
  {
   "cell_type": "code",
   "execution_count": 56,
   "metadata": {},
   "outputs": [
    {
     "name": "stdout",
     "output_type": "stream",
     "text": [
      "Band 0:\n",
      " Band: Tool \tGenre: Progressive Metal \tSong: Forty Six & 2\n",
      "Band 1:\n",
      " Band: Pink Floyd \tGenre: Progressive Rock \tSong: Comfortably Numb\n",
      "Band 2:\n",
      " Band: Circa Survive \tGenre: Indie \tSong: Lazarus\n"
     ]
    }
   ],
   "source": [
    "def i_print_df(df):\n",
    "    for i in range(len(df['Band'])):\n",
    "        print(\"Band {}:\\n\".format(i),\n",
    "              \"Band: {}\".format(df.iloc[i, 0]), # Uses an integer index for both arguments; [0,0] in this case\n",
    "              \"\\tGenre: {}\".format(df.iloc[i, 1]),\n",
    "              \"\\tSong: {}\".format(df.iloc[i, 2]))\n",
    "\n",
    "i_print_df(df)"
   ]
  },
  {
   "cell_type": "markdown",
   "metadata": {},
   "source": [
    "### .ix\n",
    "By default, ix looks for a label. If ix doesn't find a label, it will use an integer. This means you can select data by using either column numbers and row numbers or column headers and row names using ix.\n",
    "\n",
    "In Pandas version 0.20.0 and later, ix is deprecated. [source](https://www.geeksforgeeks.org/python-pandas-dataframe-ix/)"
   ]
  },
  {
   "cell_type": "markdown",
   "metadata": {},
   "source": [
    "### Slicing DataFrames\n",
    "You can also slice data frames and assign the values to a new data frame using the column names. "
   ]
  },
  {
   "cell_type": "code",
   "execution_count": 61,
   "metadata": {},
   "outputs": [
    {
     "name": "stdout",
     "output_type": "stream",
     "text": [
      "0             Tool\n",
      "1       Pink Floyd\n",
      "2    Circa Survive\n",
      "Name: Band, dtype: object \n",
      "\n",
      "Band                  Tool\n",
      "Genre    Progressive Metal\n",
      "Song         Forty Six & 2\n",
      "Name: 0, dtype: object\n"
     ]
    }
   ],
   "source": [
    "# Get just the list of bands\n",
    "bands = df.loc[:,\"Band\"]\n",
    "print(bands, \"\\n\")\n",
    "\n",
    "# Get just the first band and its row data\n",
    "band_one = df.loc[0,:]\n",
    "print(band_one)"
   ]
  },
  {
   "cell_type": "markdown",
   "metadata": {},
   "source": [
    "### Subset Based on Criteria\n",
    "You can use conditionals to subset a DataFrame"
   ]
  },
  {
   "cell_type": "code",
   "execution_count": 66,
   "metadata": {},
   "outputs": [
    {
     "data": {
      "text/html": [
       "<div>\n",
       "<style scoped>\n",
       "    .dataframe tbody tr th:only-of-type {\n",
       "        vertical-align: middle;\n",
       "    }\n",
       "\n",
       "    .dataframe tbody tr th {\n",
       "        vertical-align: top;\n",
       "    }\n",
       "\n",
       "    .dataframe thead th {\n",
       "        text-align: right;\n",
       "    }\n",
       "</style>\n",
       "<table border=\"1\" class=\"dataframe\">\n",
       "  <thead>\n",
       "    <tr style=\"text-align: right;\">\n",
       "      <th></th>\n",
       "      <th>Band</th>\n",
       "      <th>Genre</th>\n",
       "      <th>Song</th>\n",
       "    </tr>\n",
       "  </thead>\n",
       "  <tbody>\n",
       "    <tr>\n",
       "      <th>1</th>\n",
       "      <td>Pink Floyd</td>\n",
       "      <td>Progressive Rock</td>\n",
       "      <td>Comfortably Numb</td>\n",
       "    </tr>\n",
       "    <tr>\n",
       "      <th>2</th>\n",
       "      <td>Rush</td>\n",
       "      <td>Progressive Rock</td>\n",
       "      <td>Tom Sawyer</td>\n",
       "    </tr>\n",
       "  </tbody>\n",
       "</table>\n",
       "</div>"
      ],
      "text/plain": [
       "         Band             Genre              Song\n",
       "1  Pink Floyd  Progressive Rock  Comfortably Numb\n",
       "2        Rush  Progressive Rock        Tom Sawyer"
      ]
     },
     "execution_count": 66,
     "metadata": {},
     "output_type": "execute_result"
    }
   ],
   "source": [
    "# Select only bands from the Genre \"Progressive Rock\"\n",
    "df_prog_rock = df[df['Genre']=='Progressive Rock']\n",
    "df_prog_rock"
   ]
  },
  {
   "cell_type": "code",
   "execution_count": 71,
   "metadata": {},
   "outputs": [
    {
     "name": "stdout",
     "output_type": "stream",
     "text": [
      "Bool Values:\n",
      " 0    False\n",
      "1     True\n",
      "2     True\n",
      "3    False\n",
      "Name: Genre, dtype: bool \n",
      "\n",
      "Sliced Using Bool Values:\n",
      "          Band             Genre              Song\n",
      "1  Pink Floyd  Progressive Rock  Comfortably Numb\n",
      "2        Rush  Progressive Rock        Tom Sawyer \n",
      "\n"
     ]
    }
   ],
   "source": [
    "# The following is the same as above, but broken up into steps\n",
    "df_prog_rock_bool = df['Genre']=='Progressive Rock' # Create a list of bool values, returning True if criteria is met\n",
    "print(\"Bool Values:\\n\", df_prog_rock_bool, \"\\n\")\n",
    "df_prog_rock = df[df_prog_rock_bool] # Using the list of bool values, slice the original DataFrame\n",
    "print(\"Sliced Using Bool Values:\\n\", df_prog_rock, \"\\n\")"
   ]
  },
  {
   "cell_type": "markdown",
   "metadata": {},
   "source": [
    "## Numpy"
   ]
  },
  {
   "cell_type": "code",
   "execution_count": 73,
   "metadata": {},
   "outputs": [],
   "source": [
    "import numpy as np"
   ]
  },
  {
   "cell_type": "markdown",
   "metadata": {},
   "source": [
    "### Basic Functions"
   ]
  },
  {
   "cell_type": "code",
   "execution_count": 104,
   "metadata": {},
   "outputs": [],
   "source": [
    "# Assign 3 vectors as numpy arrays\n",
    "vector1 = np.array([1, 0, 0])\n",
    "vector2 = np.array([0, 1, 0])\n",
    "vector3 = np.array([0, 0, 1])"
   ]
  },
  {
   "cell_type": "code",
   "execution_count": 111,
   "metadata": {},
   "outputs": [
    {
     "name": "stdout",
     "output_type": "stream",
     "text": [
      "Size: 3\n",
      "Shape: 3\n",
      "Dimensions: 1\n"
     ]
    }
   ],
   "source": [
    "print(\"Size: %d\" % vector1.size) # len of vector\n",
    "print(\"Shape: %d\" % vector1.shape) # tuple of size in each direction\n",
    "print(\"Dimensions: %d\" % vector1.ndim) # dimension of array(s)"
   ]
  },
  {
   "cell_type": "markdown",
   "metadata": {},
   "source": [
    "### Vector Operations - 1 Dimension"
   ]
  },
  {
   "cell_type": "code",
   "execution_count": 81,
   "metadata": {},
   "outputs": [
    {
     "data": {
      "text/plain": [
       "array([1, 1, 1])"
      ]
     },
     "execution_count": 81,
     "metadata": {},
     "output_type": "execute_result"
    }
   ],
   "source": [
    "# Addition\n",
    "vector1 + vector2 + vector3"
   ]
  },
  {
   "cell_type": "code",
   "execution_count": 82,
   "metadata": {},
   "outputs": [
    {
     "data": {
      "text/plain": [
       "array([ 1,  0, -1])"
      ]
     },
     "execution_count": 82,
     "metadata": {},
     "output_type": "execute_result"
    }
   ],
   "source": [
    "# Subtraction\n",
    "vector1 - vector3"
   ]
  },
  {
   "cell_type": "code",
   "execution_count": 84,
   "metadata": {},
   "outputs": [
    {
     "data": {
      "text/plain": [
       "array([2, 0, 1])"
      ]
     },
     "execution_count": 84,
     "metadata": {},
     "output_type": "execute_result"
    }
   ],
   "source": [
    "# PEMDAS\n",
    "vector1 * 2 + vector3"
   ]
  },
  {
   "cell_type": "code",
   "execution_count": 88,
   "metadata": {},
   "outputs": [
    {
     "name": "stdout",
     "output_type": "stream",
     "text": [
      "0\n",
      "4\n"
     ]
    }
   ],
   "source": [
    "# Dot Product; output is a number representing similarity between arrays\n",
    "print(np.dot(vector1, vector2))\n",
    "newVector = (vector1 * 2 + vector3) * 2\n",
    "print(np.dot(vector1, newVector))"
   ]
  },
  {
   "cell_type": "code",
   "execution_count": 114,
   "metadata": {},
   "outputs": [
    {
     "name": "stdout",
     "output_type": "stream",
     "text": [
      "Max: 1\n",
      "Mean: 0.3333333333333333\n",
      "Std: 0.4714045207910317\n"
     ]
    }
   ],
   "source": [
    "# Descriptive Statistics\n",
    "print(\"Max: {}\".format(vector1.max()))\n",
    "print(\"Mean: {}\".format(vector1.mean()))\n",
    "print(\"Std: {}\".format(vector1.std()))"
   ]
  },
  {
   "cell_type": "code",
   "execution_count": 115,
   "metadata": {},
   "outputs": [
    {
     "name": "stdout",
     "output_type": "stream",
     "text": [
      "[0, 1.5707963267948966, 3.141592653589793]\n",
      "[0.0000000e+00 1.0000000e+00 1.2246468e-16]\n"
     ]
    }
   ],
   "source": [
    "# pi, sin, etc.\n",
    "x = [0, np.pi/2, np.pi]\n",
    "y = np.sin(x)\n",
    "print(x)\n",
    "print(y)"
   ]
  },
  {
   "cell_type": "markdown",
   "metadata": {},
   "source": [
    "### Create a number line"
   ]
  },
  {
   "cell_type": "code",
   "execution_count": 135,
   "metadata": {},
   "outputs": [
    {
     "data": {
      "text/plain": [
       "array([0.        , 0.06346652, 0.12693304, 0.19039955, 0.25386607,\n",
       "       0.31733259, 0.38079911, 0.44426563, 0.50773215, 0.57119866,\n",
       "       0.63466518, 0.6981317 , 0.76159822, 0.82506474, 0.88853126,\n",
       "       0.95199777, 1.01546429, 1.07893081, 1.14239733, 1.20586385,\n",
       "       1.26933037, 1.33279688, 1.3962634 , 1.45972992, 1.52319644,\n",
       "       1.58666296, 1.65012947, 1.71359599, 1.77706251, 1.84052903,\n",
       "       1.90399555, 1.96746207, 2.03092858, 2.0943951 , 2.15786162,\n",
       "       2.22132814, 2.28479466, 2.34826118, 2.41172769, 2.47519421,\n",
       "       2.53866073, 2.60212725, 2.66559377, 2.72906028, 2.7925268 ,\n",
       "       2.85599332, 2.91945984, 2.98292636, 3.04639288, 3.10985939,\n",
       "       3.17332591, 3.23679243, 3.30025895, 3.36372547, 3.42719199,\n",
       "       3.4906585 , 3.55412502, 3.61759154, 3.68105806, 3.74452458,\n",
       "       3.8079911 , 3.87145761, 3.93492413, 3.99839065, 4.06185717,\n",
       "       4.12532369, 4.1887902 , 4.25225672, 4.31572324, 4.37918976,\n",
       "       4.44265628, 4.5061228 , 4.56958931, 4.63305583, 4.69652235,\n",
       "       4.75998887, 4.82345539, 4.88692191, 4.95038842, 5.01385494,\n",
       "       5.07732146, 5.14078798, 5.2042545 , 5.26772102, 5.33118753,\n",
       "       5.39465405, 5.45812057, 5.52158709, 5.58505361, 5.64852012,\n",
       "       5.71198664, 5.77545316, 5.83891968, 5.9023862 , 5.96585272,\n",
       "       6.02931923, 6.09278575, 6.15625227, 6.21971879, 6.28318531])"
      ]
     },
     "execution_count": 135,
     "metadata": {},
     "output_type": "execute_result"
    }
   ],
   "source": [
    "num_line = np.linspace(0, 2*np.pi, num = 100) # Produce 100 samples from 0 to 2pi\n",
    "num_line"
   ]
  },
  {
   "cell_type": "code",
   "execution_count": 136,
   "metadata": {},
   "outputs": [
    {
     "data": {
      "text/plain": [
       "[<matplotlib.lines.Line2D at 0x141fb9cd670>]"
      ]
     },
     "execution_count": 136,
     "metadata": {},
     "output_type": "execute_result"
    },
    {
     "data": {
      "image/png": "[encoded data removed]",
      "text/plain": [
       "<Figure size 432x288 with 1 Axes>"
      ]
     },
     "metadata": {
      "needs_background": "light"
     },
     "output_type": "display_data"
    }
   ],
   "source": [
    "# plot it\n",
    "import matplotlib.pyplot as plt\n",
    "# need this because we are in a notebook\n",
    "%matplotlib inline \n",
    "\n",
    "y = np.sin(num_line)\n",
    "plt.plot(num_line, y)"
   ]
  },
  {
   "cell_type": "markdown",
   "metadata": {},
   "source": [
    "### Plotting Functions"
   ]
  },
  {
   "cell_type": "code",
   "execution_count": 121,
   "metadata": {},
   "outputs": [],
   "source": [
    "def Plot3vec(u, z, v):\n",
    "    \n",
    "    ax = plt.axes()\n",
    "    ax.arrow(0, 0, *u, head_width=0.05, color='r', head_length=0.1)\n",
    "    plt.text(*(u + 0.1), 'u')\n",
    "    \n",
    "    ax.arrow(0, 0, *v, head_width=0.05, color='b', head_length=0.1)\n",
    "    plt.text(*(v + 0.1), 'v')\n",
    "    ax.arrow(0, 0, *z, head_width=0.05, head_length=0.1)\n",
    "    plt.text(*(z + 0.1), 'z')\n",
    "    plt.ylim(-2, 2)\n",
    "    plt.xlim(-2, 2)\n",
    "\n",
    "def Plot2vec(a,b):\n",
    "    ax = plt.axes()\n",
    "    ax.arrow(0, 0, *a, head_width=0.05, color ='r', head_length=0.1)\n",
    "    plt.text(*(a + 0.1), 'a')\n",
    "    ax.arrow(0, 0, *b, head_width=0.05, color ='b', head_length=0.1)\n",
    "    plt.text(*(b + 0.1), 'b')\n",
    "    plt.ylim(-2, 2)\n",
    "    plt.xlim(-2, 2)\n",
    "\n",
    "u = np.array([1,0])\n",
    "v = np.array([0,1])\n",
    "z = u + v"
   ]
  },
  {
   "cell_type": "code",
   "execution_count": 122,
   "metadata": {},
   "outputs": [
    {
     "data": {
      "image/png": "[encoded data removed]",
      "text/plain": [
       "<Figure size 432x288 with 1 Axes>"
      ]
     },
     "metadata": {
      "needs_background": "light"
     },
     "output_type": "display_data"
    }
   ],
   "source": [
    "Plot3vec(u, v, z)"
   ]
  },
  {
   "cell_type": "code",
   "execution_count": 123,
   "metadata": {},
   "outputs": [
    {
     "data": {
      "image/png": "[encoded data removed]",
      "text/plain": [
       "<Figure size 432x288 with 1 Axes>"
      ]
     },
     "metadata": {
      "needs_background": "light"
     },
     "output_type": "display_data"
    }
   ],
   "source": [
    "Plot2vec(u, v)"
   ]
  },
  {
   "cell_type": "markdown",
   "metadata": {},
   "source": [
    "### Vector Operations - 2+ Dimensions"
   ]
  },
  {
   "cell_type": "code",
   "execution_count": 174,
   "metadata": {},
   "outputs": [
    {
     "name": "stdout",
     "output_type": "stream",
     "text": [
      "Size: 9\n",
      "Shape: (3, 3)\n",
      "Dimensions: 2\n"
     ]
    }
   ],
   "source": [
    "array_2d = np.array([[1,0,1], [0,0,1], [0,1,1]])\n",
    "print(\"Size: {}\".format(array_2d.size)) # len of vector\n",
    "print(\"Shape: {}\".format(array_2d.shape)) # tuple of size in each direction\n",
    "print(\"Dimensions: {}\".format(array_2d.ndim)) # dimension of array(s)"
   ]
  },
  {
   "cell_type": "code",
   "execution_count": 131,
   "metadata": {},
   "outputs": [
    {
     "name": "stdout",
     "output_type": "stream",
     "text": [
      "Size: 12\n",
      "Shape: (2, 3, 2)\n",
      "Dimensions: 3\n"
     ]
    }
   ],
   "source": [
    "array_3d = np.array([[[1,0], [0,1], [1,1]],[[0,0], [1,1], [0,1]]])\n",
    "print(\"Size: {}\".format(array_3d.size)) # len of vector\n",
    "print(\"Shape: {}\".format(array_3d.shape)) # tuple of size in each direction\n",
    "print(\"Dimensions: {}\".format(array_3d.ndim)) # dimension of array(s)"
   ]
  },
  {
   "cell_type": "markdown",
   "metadata": {},
   "source": [
    "### Accessing Data and Slicing"
   ]
  },
  {
   "cell_type": "code",
   "execution_count": 143,
   "metadata": {},
   "outputs": [
    {
     "name": "stdout",
     "output_type": "stream",
     "text": [
      "[[1 0 1]\n",
      " [0 0 1]\n",
      " [0 1 1]]\n",
      "1\n",
      "0\n",
      "1\n"
     ]
    }
   ],
   "source": [
    "print(array_2d)\n",
    "print(array_2d[0,0])\n",
    "print(array_2d[1,1])\n",
    "print(array_2d[2,2])"
   ]
  },
  {
   "cell_type": "code",
   "execution_count": 176,
   "metadata": {},
   "outputs": [
    {
     "name": "stdout",
     "output_type": "stream",
     "text": [
      "[[1 0 1]\n",
      " [0 0 1]\n",
      " [0 1 1]]\n",
      "[1 0]\n",
      "[0 1]\n"
     ]
    }
   ],
   "source": [
    "print(array_2d)\n",
    "print(array_2d[0,0:2])\n",
    "print(array_2d[1,1:3])"
   ]
  },
  {
   "cell_type": "markdown",
   "metadata": {},
   "source": [
    "### Vector Math"
   ]
  },
  {
   "cell_type": "code",
   "execution_count": 154,
   "metadata": {},
   "outputs": [
    {
     "name": "stdout",
     "output_type": "stream",
     "text": [
      "Array 1:\n",
      "[[1 0 1]\n",
      " [0 0 1]\n",
      " [0 1 1]]\n",
      "Array 2:\n",
      "[[1 0 0]\n",
      " [0 0 0]\n",
      " [1 1 1]]\n",
      "Array 1 + Array 2:\n",
      "[[2 0 1]\n",
      " [0 0 1]\n",
      " [1 2 2]]\n",
      "Array 1 - Array 2:\n",
      "[[ 0  0  1]\n",
      " [ 0  0  1]\n",
      " [-1  0  0]]\n",
      "Array 1 * Array 2:\n",
      "[[1 0 0]\n",
      " [0 0 0]\n",
      " [0 1 1]]\n",
      "Array 1 & Array 2 Dot Product:\n",
      "[[2 1 1]\n",
      " [1 1 1]\n",
      " [1 1 1]]\n"
     ]
    }
   ],
   "source": [
    "# Make another 2D array\n",
    "array_2d_1 = np.array([[1,0,0], [0,0,0], [1,1,1]])\n",
    "print(\"Array 1:\\n{}\".format(array_2d))\n",
    "print(\"Array 2:\\n{}\".format(array_2d_1))\n",
    "print(\"Array 1 + Array 2:\\n{}\".format(array_2d + array_2d_1))\n",
    "print(\"Array 1 - Array 2:\\n{}\".format(array_2d - array_2d_1))\n",
    "print(\"Array 1 * Array 2:\\n{}\".format(array_2d * array_2d_1))\n",
    "print(\"Array 1 o Array 2 Dot Product:\\n{}\".format(np.dot(array_2d, array_2d_1)))"
   ]
  },
  {
   "cell_type": "markdown",
   "metadata": {},
   "source": [
    "### When shape doesn't match"
   ]
  },
  {
   "cell_type": "code",
   "execution_count": 177,
   "metadata": {},
   "outputs": [
    {
     "name": "stdout",
     "output_type": "stream",
     "text": [
      "Array 1:\n",
      "[[[1 0 0]\n",
      "  [0 0 1]]\n",
      "\n",
      " [[1 1 0]\n",
      "  [0 1 1]]]\n",
      "\n",
      "Array 2:\n",
      "[[[1 0]\n",
      "  [0 0]\n",
      "  [1 1]]\n",
      "\n",
      " [[0 1]\n",
      "  [1 0]\n",
      "  [0 1]]]\n",
      "\n",
      "Array 1 Shape:\n",
      "(2, 2, 3)\n",
      "\n",
      "Array 2 Shape:\n",
      "(2, 3, 2)\n",
      "\n",
      "Array 1 Dimensions:\n",
      "3\n",
      "\n",
      "Array 2 Dimensions:\n",
      "3\n",
      "\n"
     ]
    }
   ],
   "source": [
    "array_2d_2 = np.array([[[1,0,0], [0,0,1]], [[1,1,0],[0,1,1]]])\n",
    "array_2d_3 = np.array([[[1,0], [0,0], [1,1]], [[0,1], [1,0], [0,1]]])\n",
    "print(\"Array 1:\\n{}\\n\".format(array_2d_2))\n",
    "print(\"Array 2:\\n{}\\n\".format(array_2d_3))\n",
    "print(\"Array 1 Shape:\\n{}\\n\".format(array_2d_2.shape))\n",
    "print(\"Array 2 Shape:\\n{}\\n\".format(array_2d_3.shape))\n",
    "print(\"Array 1 Dimensions:\\n{}\\n\".format(array_2d_2.ndim))\n",
    "print(\"Array 2 Dimensions:\\n{}\\n\".format(array_2d_3.ndim))"
   ]
  },
  {
   "cell_type": "code",
   "execution_count": 173,
   "metadata": {},
   "outputs": [
    {
     "name": "stdout",
     "output_type": "stream",
     "text": [
      "Array 1:\n",
      "[[[1 0 0]\n",
      "  [0 0 1]]\n",
      "\n",
      " [[1 1 0]\n",
      "  [0 1 1]]]\n",
      "Array 2:\n",
      "[[[1 0]\n",
      "  [0 0]\n",
      "  [1 1]]\n",
      "\n",
      " [[0 1]\n",
      "  [1 0]\n",
      "  [0 1]]]\n",
      "Could not add arrays\n",
      "Could not subtract arrays\n",
      "Could not multiply arrays\n",
      "Array 1 o Array 2 Dot Product:\n",
      "[[[[1 0]\n",
      "   [0 1]]\n",
      "\n",
      "  [[1 1]\n",
      "   [0 1]]]\n",
      "\n",
      "\n",
      " [[[1 0]\n",
      "   [1 1]]\n",
      "\n",
      "  [[1 1]\n",
      "   [1 1]]]]\n",
      "Array 2 o Array 1 Dot Product:\n",
      "[[[[1 0 0]\n",
      "   [1 1 0]]\n",
      "\n",
      "  [[0 0 0]\n",
      "   [0 0 0]]\n",
      "\n",
      "  [[1 0 1]\n",
      "   [1 2 1]]]\n",
      "\n",
      "\n",
      " [[[0 0 1]\n",
      "   [0 1 1]]\n",
      "\n",
      "  [[1 0 0]\n",
      "   [1 1 0]]\n",
      "\n",
      "  [[0 0 1]\n",
      "   [0 1 1]]]]\n"
     ]
    }
   ],
   "source": [
    "print(\"Array 1:\\n{}\".format(array_2d_2))\n",
    "print(\"Array 2:\\n{}\".format(array_2d_3))\n",
    "try:\n",
    "    print(\"Array 1 + Array 2:\\n{}\".format(array_2d_2 + array_2d_3))\n",
    "except ValueError as e:\n",
    "    print(\"Could not add arrays\")\n",
    "try:\n",
    "    print(\"Array 1 - Array 2:\\n{}\".format(array_2d_2 - array_2d_3))\n",
    "except ValueError as e:\n",
    "    print(\"Could not subtract arrays\")\n",
    "try:\n",
    "    print(\"Array 1 * Array 2:\\n{}\".format(array_2d_2 * array_2d_3))\n",
    "except ValueError as e:\n",
    "    print(\"Could not multiply arrays\")\n",
    "try:\n",
    "    print(\"Array 1 o Array 2 Dot Product:\\n{}\".format(np.dot(array_2d_2, array_2d_3)))\n",
    "    print(\"Array 2 o Array 1 Dot Product:\\n{}\".format(np.dot(array_2d_3, array_2d_2)))\n",
    "except ValueError as e:\n",
    "    print(\"Could not get dot product of arrays\")"
   ]
  },
  {
   "cell_type": "markdown",
   "metadata": {},
   "source": [
    "### Matrix Transposition"
   ]
  },
  {
   "cell_type": "code",
   "execution_count": 180,
   "metadata": {},
   "outputs": [
    {
     "name": "stdout",
     "output_type": "stream",
     "text": [
      "Array:\n",
      "[[[1 0 0]\n",
      "  [0 0 1]]\n",
      "\n",
      " [[1 1 0]\n",
      "  [0 1 1]]]\n",
      "\n",
      "Transposed:\n",
      "[[[1 1]\n",
      "  [0 0]]\n",
      "\n",
      " [[0 1]\n",
      "  [0 1]]\n",
      "\n",
      " [[0 0]\n",
      "  [1 1]]]\n"
     ]
    }
   ],
   "source": [
    "print(\"Array:\\n{}\".format(array_2d_2))\n",
    "print(\"\\nTransposed:\\n{}\".format(array_2d_2.T))"
   ]
  },
  {
   "cell_type": "code",
   "execution_count": null,
   "metadata": {},
   "outputs": [],
   "source": []
  }
 ],
 "metadata": {
  "kernelspec": {
   "display_name": "Python 3",
   "language": "python",
   "name": "python3"
  },
  "language_info": {
   "codemirror_mode": {
    "name": "ipython",
    "version": 3
   },
   "file_extension": ".py",
   "mimetype": "text/x-python",
   "name": "python",
   "nbconvert_exporter": "python",
   "pygments_lexer": "ipython3",
   "version": "3.8.5"
  }
 },
 "nbformat": 4,
 "nbformat_minor": 4
}
